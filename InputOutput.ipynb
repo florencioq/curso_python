{
 "cells": [
  {
   "cell_type": "markdown",
   "id": "f4cc519d-a093-47e6-a54a-2261c028330f",
   "metadata": {
    "tags": []
   },
   "source": [
    "# Entrada e Saída"
   ]
  },
  {
   "cell_type": "markdown",
   "id": "efe7cd8a-ebde-40bd-a216-c225624774e1",
   "metadata": {},
   "source": [
    "## Imprimindo na tela"
   ]
  },
  {
   "cell_type": "code",
   "execution_count": null,
   "id": "52d0fdc2-8451-46a8-9d27-a52e0814ef8a",
   "metadata": {},
   "outputs": [],
   "source": [
    "copas = 5"
   ]
  },
  {
   "cell_type": "code",
   "execution_count": null,
   "id": "92d6d71d-abb1-4b3e-a599-2a9c23218cf0",
   "metadata": {},
   "outputs": [],
   "source": [
    "# mais simples\n",
    "print(\"O Brasil ganhou \" + str(copas) + \" copas do mundo\")"
   ]
  },
  {
   "cell_type": "markdown",
   "id": "3695cf93-db95-4782-bfba-606b41f35fac",
   "metadata": {
    "tags": []
   },
   "source": [
    "### Strings literais formatadas"
   ]
  },
  {
   "cell_type": "code",
   "execution_count": null,
   "id": "b6460a62-e34a-47e3-9aa6-0db7b8ff3a54",
   "metadata": {},
   "outputs": [],
   "source": [
    "quantidades = [5, 1, 2]\n",
    "eventos = ['copas do mundo', 'medalha(s) de ouro nas olimpíadas' , 'vices campeonatos mundiais']\n",
    "for x, y in zip(quantidades, eventos):\n",
    "    print(f\"O Brasil tem {x} {y}\")"
   ]
  },
  {
   "cell_type": "code",
   "execution_count": null,
   "id": "baac7400-2d4b-4369-b69e-b4afe44e8a21",
   "metadata": {},
   "outputs": [],
   "source": [
    "# Fazendo colunas alinhadas\n",
    "estados = [{'nome': 'São Paulo', 'sigla': 'SP'}, \n",
    "           {'nome': 'Rio de Janeiro', 'sigla': 'RJ'},\n",
    "           {'nome': 'Ceará', 'sigla': 'CE'},\n",
    "           {'nome': 'Paraíba', 'sigla': 'PB'},]"
   ]
  },
  {
   "cell_type": "code",
   "execution_count": null,
   "id": "ed6fd987-a949-4fcd-a529-268449c56320",
   "metadata": {},
   "outputs": [],
   "source": [
    "for estado in estados:\n",
    "    print(f\"{estado['nome']:15} -> {estado['sigla']}\")"
   ]
  },
  {
   "cell_type": "markdown",
   "id": "245a3576-28eb-4be6-8a55-8e9f45f0756a",
   "metadata": {},
   "source": [
    "### O método \"format()\""
   ]
  },
  {
   "cell_type": "code",
   "execution_count": null,
   "id": "c653b659-52f7-4dc3-abf0-99836042b78a",
   "metadata": {},
   "outputs": [],
   "source": [
    "ficha = \"Meu nome é {nome}, sou {estado_civil} e tenho {num_filhos} filho(s)\""
   ]
  },
  {
   "cell_type": "code",
   "execution_count": null,
   "id": "db18c6bc-e48c-43b9-a4a9-44e7825f03b6",
   "metadata": {},
   "outputs": [],
   "source": [
    "pessoas = [{'nome': 'José', 'estado civil': 'casado', 'num filhos': 1 },\n",
    "           {'nome': 'Nilton', 'estado civil': 'viúvo', 'num filhos': 4 },\n",
    "           {'nome': 'André', 'estado civil': 'solteiro', 'num filhos': 0 }]"
   ]
  },
  {
   "cell_type": "code",
   "execution_count": null,
   "id": "fa7646dc-e287-4577-b222-6b9890fffc77",
   "metadata": {},
   "outputs": [],
   "source": [
    "ficha2 = ficha.format(nome='a', estado_civil='b', num_filhos=3)"
   ]
  },
  {
   "cell_type": "code",
   "execution_count": null,
   "id": "76be3318-9cca-49ad-b96a-bba62721bff4",
   "metadata": {},
   "outputs": [],
   "source": [
    "for pessoa in pessoas:\n",
    "    print(ficha.format(nome=pessoa['nome'], estado_civil=pessoa['estado civil'], num_filhos=pessoa['num filhos']))"
   ]
  },
  {
   "cell_type": "code",
   "execution_count": null,
   "id": "e0268349-0d28-4d1e-a2b1-a7ec6be40252",
   "metadata": {},
   "outputs": [],
   "source": [
    "# Ou ainda\n",
    "ficha = \"Meu nome é {0[nome]}, sou {0[estado civil]} e tenho {0[num filhos]} filho(s)\"\n",
    "for pessoa in pessoas:\n",
    "    print(ficha.format(pessoa))"
   ]
  },
  {
   "cell_type": "code",
   "execution_count": null,
   "id": "0783d1d3-0c0d-4890-97e6-b50e1a4d0eff",
   "metadata": {},
   "outputs": [],
   "source": [
    "# Ou ainda\n",
    "ficha = \"Meu nome é {nome}, sou {estado civil} e tenho {num filhos} filho(s)\"\n",
    "for pessoa in pessoas:\n",
    "    print(ficha.format(**pessoa))"
   ]
  },
  {
   "cell_type": "markdown",
   "id": "964f8e8a-629c-44e0-84b8-734ff5de60ee",
   "metadata": {},
   "source": [
    "### Formatando a String com estilo \"printf\""
   ]
  },
  {
   "cell_type": "code",
   "execution_count": null,
   "id": "ad64e330-ac41-4161-b647-e39aa49b46e5",
   "metadata": {},
   "outputs": [],
   "source": [
    "print('O valor de Pi é aproximadamente %5.3f.' % 3.1415926)"
   ]
  },
  {
   "cell_type": "markdown",
   "id": "8e21a451",
   "metadata": {},
   "source": [
    "## Lendo e Gravando Arquivos"
   ]
  },
  {
   "cell_type": "code",
   "execution_count": null,
   "id": "bfa4992b",
   "metadata": {},
   "outputs": [],
   "source": [
    "arquivo = open(file='arquivo.txt', mode='w', encoding=\"utf-8\")\n",
    "arquivo.close()"
   ]
  },
  {
   "cell_type": "code",
   "execution_count": null,
   "id": "f0f8be00-25ad-4352-85ac-808fa05a81a6",
   "metadata": {},
   "outputs": [],
   "source": [
    "# opções para o parâmetro mode:\n",
    "# -------------------------------\n",
    "# 'r' abrir para ler (padrão)\n",
    "# 'w' abrir para escrever, trucando o arquivo inicialmente\n",
    "# 'x' abrir arquivo novo para escrever\n",
    "# 'a' abrir para apendar ao arquivo\n",
    "# 'b' abrir no modo binário\n",
    "# 't' abrir em modo texto (padrão)\n",
    "# '+' abrir para fazer update (ler e escrever)"
   ]
  },
  {
   "cell_type": "code",
   "execution_count": null,
   "id": "bd3dc0d2-5b5b-428c-982d-17b403657afb",
   "metadata": {
    "tags": []
   },
   "outputs": [],
   "source": [
    "# O melhor é abrir arquivos com contexto\n",
    "with open(file='requirements.txt', mode='r', encoding=\"utf-8\") as f:\n",
    "    read_data = f.read()\n",
    "    \n",
    "print(read_data)\n",
    "    "
   ]
  },
  {
   "cell_type": "code",
   "execution_count": null,
   "id": "9459bfce-9507-4b2e-9044-64d514ec68a0",
   "metadata": {},
   "outputs": [],
   "source": [
    "type(read_data)"
   ]
  },
  {
   "cell_type": "code",
   "execution_count": null,
   "id": "780d7ac0-33c4-4c88-862b-b48f9d4f2240",
   "metadata": {},
   "outputs": [],
   "source": [
    "# lendo tudo de uma vez\n",
    "with open(file='requirements.txt', mode='r', encoding=\"utf-8\") as f:\n",
    "    print('---')\n",
    "    read_data = f.read(4)\n",
    "    print(1)\n",
    "    print(read_data)\n",
    "    print('posição ponteiro:', f.tell())\n",
    "    print('---')\n",
    "    read_data = f.read()\n",
    "    print(2)\n",
    "    print(read_data)\n",
    "    print('posição ponteiro:', f.tell())\n",
    "    print('---')"
   ]
  },
  {
   "cell_type": "code",
   "execution_count": null,
   "id": "ec3c62a5-7193-4413-b54c-4c1780cf6db1",
   "metadata": {},
   "outputs": [],
   "source": [
    "# lendo uma linha por vez\n",
    "with open(file='requirements.txt', mode='r', encoding=\"utf-8\") as f:\n",
    "    print('---')\n",
    "    linha1 = f.readline()\n",
    "    print(linha1)\n",
    "    print('posição ponteiro:', f.tell())\n",
    "    print('---')\n",
    "    linha2 = f.readline()\n",
    "    print(linha2)\n",
    "    print('posição ponteiro:', f.tell())"
   ]
  },
  {
   "cell_type": "code",
   "execution_count": 1,
   "id": "40d5b65f-139f-4440-943e-b275237d2332",
   "metadata": {},
   "outputs": [
    {
     "name": "stdout",
     "output_type": "stream",
     "text": [
      "<class 'list'>\n",
      "['pandas\\n', 'jupyter']\n"
     ]
    }
   ],
   "source": [
    "# lendo linhas como listas\n",
    "with open(file='requirements.txt', mode='r', encoding=\"utf-8\") as f:\n",
    "    s = f.readlines()\n",
    "    print(type(s))\n",
    "    print(s)"
   ]
  },
  {
   "cell_type": "code",
   "execution_count": null,
   "id": "31b2defa-596a-4d9a-a7c8-721efbcc2e8a",
   "metadata": {},
   "outputs": [],
   "source": [
    "# escrevendo um arquivo\n",
    "with open(file='arquivo.txt', mode='w', encoding=\"utf-8\") as f:\n",
    "    f.write('Apenas um teste\\n Segunda linha')"
   ]
  },
  {
   "cell_type": "code",
   "execution_count": null,
   "id": "b0064f5d-de6f-418d-bd74-2f6c44a1e87f",
   "metadata": {},
   "outputs": [],
   "source": [
    "with open(file='arquivo.txt', mode='r', encoding=\"utf-8\") as f:\n",
    "    s = f.readlines()\n",
    "    print(s)"
   ]
  },
  {
   "cell_type": "markdown",
   "id": "9cf7a24f",
   "metadata": {},
   "source": [
    "## Importando e exportando objetos com json e Pickle"
   ]
  },
  {
   "cell_type": "code",
   "execution_count": null,
   "id": "e3442aae",
   "metadata": {},
   "outputs": [],
   "source": [
    "import json\n",
    "series = ['Paulo', 'Maria', 1, 2, 3]\n",
    "series_json = json.dumps(series)\n",
    "print(series_json)\n",
    "print(type(series_json))\n",
    "dict1 = {'nome': 'Paulo', 'profissão': 'Padeiro'}\n",
    "dict1_json = json.dumps(dict1)\n",
    "print(dict1_json)\n",
    "print(type(dict1_json))"
   ]
  },
  {
   "cell_type": "code",
   "execution_count": null,
   "id": "9099df8e",
   "metadata": {},
   "outputs": [],
   "source": [
    "series2 = json.loads(series_json)\n",
    "print(series2)\n",
    "print(type(series2))\n",
    "dict2 = json.loads(dict1_json)\n",
    "print(dict2)\n",
    "print(type(dict2))"
   ]
  },
  {
   "cell_type": "code",
   "execution_count": 21,
   "id": "6abca58a",
   "metadata": {},
   "outputs": [],
   "source": [
    "estados = [{'nome': 'São Paulo', 'sigla': 'SP', 'Principais Cidades': ('São Paulo', 'Campinas')}, \n",
    "           {'nome': 'Rio de Janeiro', 'sigla': 'RJ', 'Principais Cidades': ('Rio', 'Petrópolis')},\n",
    "           {'nome': 'Ceará', 'sigla': 'CE', 'Principais Cidades': ('Fortaleza', 'Juazeiro', 'Sobral', {1: 'a'})},\n",
    "           {'nome': 'Paraíba', 'sigla': 'PB', 'Principais Cidades': ('João Pessoa', 'Uiraúna')}]"
   ]
  },
  {
   "cell_type": "code",
   "execution_count": 22,
   "id": "9c71ed07",
   "metadata": {},
   "outputs": [
    {
     "data": {
      "text/plain": [
       "[{'nome': 'São Paulo',\n",
       "  'sigla': 'SP',\n",
       "  'Principais Cidades': ('São Paulo', 'Campinas')},\n",
       " {'nome': 'Rio de Janeiro',\n",
       "  'sigla': 'RJ',\n",
       "  'Principais Cidades': ('Rio', 'Petrópolis')},\n",
       " {'nome': 'Ceará',\n",
       "  'sigla': 'CE',\n",
       "  'Principais Cidades': ('Fortaleza', 'Juazeiro', 'Sobral', {1: 'a'})},\n",
       " {'nome': 'Paraíba',\n",
       "  'sigla': 'PB',\n",
       "  'Principais Cidades': ('João Pessoa', 'Uiraúna')}]"
      ]
     },
     "execution_count": 22,
     "metadata": {},
     "output_type": "execute_result"
    }
   ],
   "source": [
    "estados"
   ]
  },
  {
   "cell_type": "code",
   "execution_count": 23,
   "id": "17f8995d",
   "metadata": {},
   "outputs": [],
   "source": [
    "lista_json = json.dumps(estados)"
   ]
  },
  {
   "cell_type": "code",
   "execution_count": 24,
   "id": "673580bb",
   "metadata": {},
   "outputs": [
    {
     "name": "stdout",
     "output_type": "stream",
     "text": [
      "[{\"nome\": \"S\\u00e3o Paulo\", \"sigla\": \"SP\", \"Principais Cidades\": [\"S\\u00e3o Paulo\", \"Campinas\"]}, {\"nome\": \"Rio de Janeiro\", \"sigla\": \"RJ\", \"Principais Cidades\": [\"Rio\", \"Petr\\u00f3polis\"]}, {\"nome\": \"Cear\\u00e1\", \"sigla\": \"CE\", \"Principais Cidades\": [\"Fortaleza\", \"Juazeiro\", \"Sobral\", {\"1\": \"a\"}]}, {\"nome\": \"Para\\u00edba\", \"sigla\": \"PB\", \"Principais Cidades\": [\"Jo\\u00e3o Pessoa\", \"Uira\\u00fana\"]}]\n"
     ]
    }
   ],
   "source": [
    "print(lista_json)"
   ]
  },
  {
   "cell_type": "code",
   "execution_count": 25,
   "id": "9549e6ef",
   "metadata": {},
   "outputs": [],
   "source": [
    "lista_json2 = json.loads(lista_json)"
   ]
  },
  {
   "cell_type": "code",
   "execution_count": 26,
   "id": "94e9aced",
   "metadata": {},
   "outputs": [
    {
     "data": {
      "text/plain": [
       "[{'nome': 'São Paulo',\n",
       "  'sigla': 'SP',\n",
       "  'Principais Cidades': ['São Paulo', 'Campinas']},\n",
       " {'nome': 'Rio de Janeiro',\n",
       "  'sigla': 'RJ',\n",
       "  'Principais Cidades': ['Rio', 'Petrópolis']},\n",
       " {'nome': 'Ceará',\n",
       "  'sigla': 'CE',\n",
       "  'Principais Cidades': ['Fortaleza', 'Juazeiro', 'Sobral', {'1': 'a'}]},\n",
       " {'nome': 'Paraíba',\n",
       "  'sigla': 'PB',\n",
       "  'Principais Cidades': ['João Pessoa', 'Uiraúna']}]"
      ]
     },
     "execution_count": 26,
     "metadata": {},
     "output_type": "execute_result"
    }
   ],
   "source": [
    "lista_json2"
   ]
  },
  {
   "cell_type": "code",
   "execution_count": 27,
   "id": "8c30f022",
   "metadata": {},
   "outputs": [],
   "source": [
    "import pickle\n",
    "estados = [{'nome': 'São Paulo', 'sigla': 'SP', 'Principais Cidades': ('São Paulo', 'Campinas')}, \n",
    "           {'nome': 'Rio de Janeiro', 'sigla': 'RJ', 'Principais Cidades': ('Rio', 'Petrópolis')},\n",
    "           {'nome': 'Ceará', 'sigla': 'CE', 'Principais Cidades': ('Fortaleza', 'Juazeiro', 'Sobral', {1: 'a'})},\n",
    "           {'nome': 'Paraíba', 'sigla': 'PB', 'Principais Cidades': ('João Pessoa', 'Uiraúna')}]"
   ]
  },
  {
   "cell_type": "code",
   "execution_count": 29,
   "id": "67e467ba-0bb3-4937-a4fe-1d083520e8ff",
   "metadata": {},
   "outputs": [
    {
     "data": {
      "text/plain": [
       "[{'nome': 'São Paulo',\n",
       "  'sigla': 'SP',\n",
       "  'Principais Cidades': ('São Paulo', 'Campinas')},\n",
       " {'nome': 'Rio de Janeiro',\n",
       "  'sigla': 'RJ',\n",
       "  'Principais Cidades': ('Rio', 'Petrópolis')},\n",
       " {'nome': 'Ceará',\n",
       "  'sigla': 'CE',\n",
       "  'Principais Cidades': ('Fortaleza', 'Juazeiro', 'Sobral', {1: 'a'})},\n",
       " {'nome': 'Paraíba',\n",
       "  'sigla': 'PB',\n",
       "  'Principais Cidades': ('João Pessoa', 'Uiraúna')}]"
      ]
     },
     "execution_count": 29,
     "metadata": {},
     "output_type": "execute_result"
    }
   ],
   "source": [
    "estados"
   ]
  },
  {
   "cell_type": "code",
   "execution_count": 30,
   "id": "d1e93159",
   "metadata": {},
   "outputs": [],
   "source": [
    "with open(file='arquivo.bin', mode='bw') as f:\n",
    "    pickle.dump(estados, f)"
   ]
  },
  {
   "cell_type": "code",
   "execution_count": 31,
   "id": "813d5521",
   "metadata": {},
   "outputs": [
    {
     "name": "stdout",
     "output_type": "stream",
     "text": [
      "[{'nome': 'São Paulo', 'sigla': 'SP', 'Principais Cidades': ('São Paulo', 'Campinas')}, {'nome': 'Rio de Janeiro', 'sigla': 'RJ', 'Principais Cidades': ('Rio', 'Petrópolis')}, {'nome': 'Ceará', 'sigla': 'CE', 'Principais Cidades': ('Fortaleza', 'Juazeiro', 'Sobral', {1: 'a'})}, {'nome': 'Paraíba', 'sigla': 'PB', 'Principais Cidades': ('João Pessoa', 'Uiraúna')}]\n"
     ]
    }
   ],
   "source": [
    "with open(file='arquivo.bin', mode='br') as f:\n",
    "    dados = pickle.load(f)\n",
    "\n",
    "print(dados)"
   ]
  },
  {
   "cell_type": "code",
   "execution_count": 32,
   "id": "73205d66-b8e4-40dc-96c3-c5d7ad7a5b6d",
   "metadata": {},
   "outputs": [
    {
     "name": "stdout",
     "output_type": "stream",
     "text": [
      "<class 'list'>\n"
     ]
    }
   ],
   "source": [
    "print(type(dados))"
   ]
  },
  {
   "cell_type": "code",
   "execution_count": 33,
   "id": "cb5b7a6c",
   "metadata": {},
   "outputs": [
    {
     "data": {
      "text/plain": [
       "('Fortaleza', 'Juazeiro', 'Sobral', {1: 'a'})"
      ]
     },
     "execution_count": 33,
     "metadata": {},
     "output_type": "execute_result"
    }
   ],
   "source": [
    "dados[2]['Principais Cidades']"
   ]
  },
  {
   "cell_type": "code",
   "execution_count": 34,
   "id": "8bf96879",
   "metadata": {},
   "outputs": [
    {
     "data": {
      "text/plain": [
       "tuple"
      ]
     },
     "execution_count": 34,
     "metadata": {},
     "output_type": "execute_result"
    }
   ],
   "source": [
    "type(dados[2]['Principais Cidades'])"
   ]
  },
  {
   "cell_type": "code",
   "execution_count": null,
   "id": "32391773",
   "metadata": {},
   "outputs": [],
   "source": []
  }
 ],
 "metadata": {
  "kernelspec": {
   "display_name": "venv",
   "language": "python",
   "name": "python3"
  },
  "language_info": {
   "codemirror_mode": {
    "name": "ipython",
    "version": 3
   },
   "file_extension": ".py",
   "mimetype": "text/x-python",
   "name": "python",
   "nbconvert_exporter": "python",
   "pygments_lexer": "ipython3",
   "version": "3.10.5"
  },
  "vscode": {
   "interpreter": {
    "hash": "86d208afef672c846e1378f65c6da7724a01a633fe33b00075010bc11d86700a"
   }
  }
 },
 "nbformat": 4,
 "nbformat_minor": 5
}
