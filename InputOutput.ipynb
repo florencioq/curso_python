{
 "cells": [
  {
   "cell_type": "markdown",
   "id": "f4cc519d-a093-47e6-a54a-2261c028330f",
   "metadata": {
    "tags": []
   },
   "source": [
    "# Entrada e Saída"
   ]
  },
  {
   "cell_type": "markdown",
   "id": "efe7cd8a-ebde-40bd-a216-c225624774e1",
   "metadata": {},
   "source": [
    "## Imprimindo na tela"
   ]
  },
  {
   "cell_type": "code",
   "execution_count": 92,
   "id": "52d0fdc2-8451-46a8-9d27-a52e0814ef8a",
   "metadata": {},
   "outputs": [],
   "source": [
    "copas = 5"
   ]
  },
  {
   "cell_type": "code",
   "execution_count": 95,
   "id": "92d6d71d-abb1-4b3e-a599-2a9c23218cf0",
   "metadata": {},
   "outputs": [
    {
     "name": "stdout",
     "output_type": "stream",
     "text": [
      "O Brasil ganhou 5 copas do mundo\n"
     ]
    }
   ],
   "source": [
    "# mais simples\n",
    "print(\"O Brasil ganhou \" + str(copas) + \" copas do mundo\")"
   ]
  },
  {
   "cell_type": "markdown",
   "id": "3695cf93-db95-4782-bfba-606b41f35fac",
   "metadata": {
    "tags": []
   },
   "source": [
    "### Strings literais formatadas"
   ]
  },
  {
   "cell_type": "code",
   "execution_count": 99,
   "id": "b6460a62-e34a-47e3-9aa6-0db7b8ff3a54",
   "metadata": {},
   "outputs": [
    {
     "name": "stdout",
     "output_type": "stream",
     "text": [
      "O Brasil tem 5 copas do mundo\n",
      "O Brasil tem 1 medalha(s) de ouro nas olimpíadas\n",
      "O Brasil tem 2 vices campeonatos mundiais\n"
     ]
    }
   ],
   "source": [
    "quantidades = [5, 1, 2]\n",
    "eventos = ['copas do mundo', 'medalha(s) de ouro nas olimpíadas' , 'vices campeonatos mundiais']\n",
    "for x, y in zip(quantidades, eventos):\n",
    "    print(f\"O Brasil tem {x} {y}\")"
   ]
  },
  {
   "cell_type": "code",
   "execution_count": 100,
   "id": "baac7400-2d4b-4369-b69e-b4afe44e8a21",
   "metadata": {},
   "outputs": [],
   "source": [
    "# Fazendo colunas alinhadas\n",
    "estados = [{'nome': 'São Paulo', 'sigla': 'SP'}, \n",
    "           {'nome': 'Rio de Janeiro', 'sigla': 'RJ'},\n",
    "           {'nome': 'Ceará', 'sigla': 'CE'},\n",
    "           {'nome': 'Paraíba', 'sigla': 'PB'},]"
   ]
  },
  {
   "cell_type": "code",
   "execution_count": 101,
   "id": "ed6fd987-a949-4fcd-a529-268449c56320",
   "metadata": {},
   "outputs": [
    {
     "name": "stdout",
     "output_type": "stream",
     "text": [
      "São Paulo       -> SP\n",
      "Rio de Janeiro  -> RJ\n",
      "Ceará           -> CE\n",
      "Paraíba         -> PB\n"
     ]
    }
   ],
   "source": [
    "for estado in estados:\n",
    "    print(f\"{estado['nome']:15} -> {estado['sigla']}\")"
   ]
  },
  {
   "cell_type": "markdown",
   "id": "245a3576-28eb-4be6-8a55-8e9f45f0756a",
   "metadata": {},
   "source": [
    "### O método \"format()\""
   ]
  },
  {
   "cell_type": "code",
   "execution_count": 125,
   "id": "c653b659-52f7-4dc3-abf0-99836042b78a",
   "metadata": {},
   "outputs": [],
   "source": [
    "ficha = \"Meu nome é {nome}, sou {estado_civil} e tenho {num_filhos} filho(s)\""
   ]
  },
  {
   "cell_type": "code",
   "execution_count": 118,
   "id": "db18c6bc-e48c-43b9-a4a9-44e7825f03b6",
   "metadata": {},
   "outputs": [],
   "source": [
    "pessoas = [{'nome': 'José', 'estado civil': 'casado', 'num filhos': 1 },\n",
    "           {'nome': 'Nilton', 'estado civil': 'viúvo', 'num filhos': 4 },\n",
    "           {'nome': 'André', 'estado civil': 'solteiro', 'num filhos': 0 }]"
   ]
  },
  {
   "cell_type": "code",
   "execution_count": 126,
   "id": "fa7646dc-e287-4577-b222-6b9890fffc77",
   "metadata": {},
   "outputs": [
    {
     "ename": "KeyError",
     "evalue": "'nome'",
     "output_type": "error",
     "traceback": [
      "\u001b[1;31m---------------------------------------------------------------------------\u001b[0m",
      "\u001b[1;31mKeyError\u001b[0m                                  Traceback (most recent call last)",
      "Cell \u001b[1;32mIn [126], line 1\u001b[0m\n\u001b[1;32m----> 1\u001b[0m ficha2 \u001b[38;5;241m=\u001b[39m \u001b[43mficha\u001b[49m\u001b[38;5;241;43m.\u001b[39;49m\u001b[43mformat\u001b[49m\u001b[43m(\u001b[49m\u001b[38;5;124;43m'\u001b[39;49m\u001b[38;5;124;43ma\u001b[39;49m\u001b[38;5;124;43m'\u001b[39;49m\u001b[43m,\u001b[49m\u001b[43m \u001b[49m\u001b[38;5;124;43m'\u001b[39;49m\u001b[38;5;124;43mb\u001b[39;49m\u001b[38;5;124;43m'\u001b[39;49m\u001b[43m,\u001b[49m\u001b[43m \u001b[49m\u001b[38;5;241;43m3\u001b[39;49m\u001b[43m)\u001b[49m\n",
      "\u001b[1;31mKeyError\u001b[0m: 'nome'"
     ]
    }
   ],
   "source": [
    "ficha2 = ficha.format(nome='a', estado_civil='b', num_filhos=3)"
   ]
  },
  {
   "cell_type": "code",
   "execution_count": 119,
   "id": "76be3318-9cca-49ad-b96a-bba62721bff4",
   "metadata": {},
   "outputs": [
    {
     "name": "stdout",
     "output_type": "stream",
     "text": [
      "Meu nome é José, sou casado e tenho 1 filho(s)\n",
      "Meu nome é Nilton, sou viúvo e tenho 4 filho(s)\n",
      "Meu nome é André, sou solteiro e tenho 0 filho(s)\n"
     ]
    }
   ],
   "source": [
    "for pessoa in pessoas:\n",
    "    print(ficha.format(nome=pessoa['nome'], estado_civil=pessoa['estado civil'], num_filhos=pessoa['num filhos']))"
   ]
  },
  {
   "cell_type": "code",
   "execution_count": 122,
   "id": "e0268349-0d28-4d1e-a2b1-a7ec6be40252",
   "metadata": {},
   "outputs": [
    {
     "name": "stdout",
     "output_type": "stream",
     "text": [
      "Meu nome é José, sou casado e tenho 1 filho(s)\n",
      "Meu nome é Nilton, sou viúvo e tenho 4 filho(s)\n",
      "Meu nome é André, sou solteiro e tenho 0 filho(s)\n"
     ]
    }
   ],
   "source": [
    "# Ou ainda\n",
    "ficha = \"Meu nome é {0[nome]}, sou {0[estado civil]} e tenho {0[num filhos]} filho(s)\"\n",
    "for pessoa in pessoas:\n",
    "    print(ficha.format(pessoa))"
   ]
  },
  {
   "cell_type": "code",
   "execution_count": 123,
   "id": "0783d1d3-0c0d-4890-97e6-b50e1a4d0eff",
   "metadata": {},
   "outputs": [
    {
     "name": "stdout",
     "output_type": "stream",
     "text": [
      "Meu nome é José, sou casado e tenho 1 filho(s)\n",
      "Meu nome é Nilton, sou viúvo e tenho 4 filho(s)\n",
      "Meu nome é André, sou solteiro e tenho 0 filho(s)\n"
     ]
    }
   ],
   "source": [
    "# Ou ainda\n",
    "ficha = \"Meu nome é {nome}, sou {estado civil} e tenho {num filhos} filho(s)\"\n",
    "for pessoa in pessoas:\n",
    "    print(ficha.format(**pessoa))"
   ]
  },
  {
   "cell_type": "markdown",
   "id": "964f8e8a-629c-44e0-84b8-734ff5de60ee",
   "metadata": {},
   "source": [
    "### Formatando a String com estilo \"printf\""
   ]
  },
  {
   "cell_type": "code",
   "execution_count": 124,
   "id": "ad64e330-ac41-4161-b647-e39aa49b46e5",
   "metadata": {},
   "outputs": [
    {
     "name": "stdout",
     "output_type": "stream",
     "text": [
      "O valor de Pi é aproximadamente 3.142.\n"
     ]
    }
   ],
   "source": [
    "print('O valor de Pi é aproximadamente %5.3f.' % 3.1415926)"
   ]
  },
  {
   "cell_type": "code",
   "execution_count": null,
   "id": "217fc3ec-286c-43ef-9281-878ba0e0a84e",
   "metadata": {},
   "outputs": [],
   "source": []
  }
 ],
 "metadata": {
  "kernelspec": {
   "display_name": "venv",
   "language": "python",
   "name": "python3"
  },
  "language_info": {
   "codemirror_mode": {
    "name": "ipython",
    "version": 3
   },
   "file_extension": ".py",
   "mimetype": "text/x-python",
   "name": "python",
   "nbconvert_exporter": "python",
   "pygments_lexer": "ipython3",
   "version": "3.10.7 (tags/v3.10.7:6cc6b13, Sep  5 2022, 14:08:36) [MSC v.1933 64 bit (AMD64)]"
  },
  "vscode": {
   "interpreter": {
    "hash": "c3d15393239b8336ab5c3ca8b3aa34b20bee6f478ffc84dff634ebf248e9ed10"
   }
  }
 },
 "nbformat": 4,
 "nbformat_minor": 5
}
