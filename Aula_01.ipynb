{
 "cells": [
  {
   "cell_type": "code",
   "execution_count": 1,
   "id": "3cc742f3-1480-4e16-8c1c-5948c3e7d3db",
   "metadata": {},
   "outputs": [],
   "source": [
    "# Isto é um comentário\n",
    "spam = 1\n"
   ]
  },
  {
   "cell_type": "code",
   "execution_count": 2,
   "id": "3108d079-0947-40cf-b72b-c7b5f328631d",
   "metadata": {},
   "outputs": [
    {
     "data": {
      "text/plain": [
       "1"
      ]
     },
     "execution_count": 2,
     "metadata": {},
     "output_type": "execute_result"
    }
   ],
   "source": [
    "spam"
   ]
  },
  {
   "cell_type": "code",
   "execution_count": 3,
   "id": "fe16ab3e-e53a-435b-a36d-ade263f21834",
   "metadata": {},
   "outputs": [
    {
     "data": {
      "text/plain": [
       "4"
      ]
     },
     "execution_count": 3,
     "metadata": {},
     "output_type": "execute_result"
    }
   ],
   "source": [
    "2 + 2"
   ]
  },
  {
   "cell_type": "code",
   "execution_count": 4,
   "id": "19699ef1-3d35-40a2-95fa-f722b1de66f7",
   "metadata": {},
   "outputs": [
    {
     "data": {
      "text/plain": [
       "44"
      ]
     },
     "execution_count": 4,
     "metadata": {},
     "output_type": "execute_result"
    }
   ],
   "source": [
    "50 - 2*3"
   ]
  },
  {
   "cell_type": "code",
   "execution_count": 5,
   "id": "abcd88de-fa57-49e3-b4f4-ad2b4615359b",
   "metadata": {},
   "outputs": [
    {
     "data": {
      "text/plain": [
       "13.333333333333334"
      ]
     },
     "execution_count": 5,
     "metadata": {},
     "output_type": "execute_result"
    }
   ],
   "source": [
    "40 / 3"
   ]
  },
  {
   "cell_type": "code",
   "execution_count": 6,
   "id": "168caf8e-8e37-48ec-a6a7-30e18fcbaa00",
   "metadata": {},
   "outputs": [
    {
     "data": {
      "text/plain": [
       "20.0"
      ]
     },
     "execution_count": 6,
     "metadata": {},
     "output_type": "execute_result"
    }
   ],
   "source": [
    "40 /2 "
   ]
  },
  {
   "cell_type": "code",
   "execution_count": 7,
   "id": "5bbc88d0-dfc6-4a15-9465-d2cc24dba4e7",
   "metadata": {},
   "outputs": [
    {
     "data": {
      "text/plain": [
       "20"
      ]
     },
     "execution_count": 7,
     "metadata": {},
     "output_type": "execute_result"
    }
   ],
   "source": [
    "40 // 2"
   ]
  },
  {
   "cell_type": "code",
   "execution_count": 8,
   "id": "d4073c9e-ba84-4944-a9c3-317d13108ae1",
   "metadata": {},
   "outputs": [
    {
     "data": {
      "text/plain": [
       "13"
      ]
     },
     "execution_count": 8,
     "metadata": {},
     "output_type": "execute_result"
    }
   ],
   "source": [
    "40 // 3"
   ]
  },
  {
   "cell_type": "code",
   "execution_count": 9,
   "id": "31e8128b-fb05-473e-ab16-0adb10bfd25b",
   "metadata": {},
   "outputs": [
    {
     "data": {
      "text/plain": [
       "1"
      ]
     },
     "execution_count": 9,
     "metadata": {},
     "output_type": "execute_result"
    }
   ],
   "source": [
    "40 % 3"
   ]
  },
  {
   "cell_type": "code",
   "execution_count": 10,
   "id": "822477df-4ef9-4665-874c-9bd6002e0fb4",
   "metadata": {},
   "outputs": [],
   "source": [
    "lado = 4"
   ]
  },
  {
   "cell_type": "code",
   "execution_count": 11,
   "id": "bfab3c23-2fbb-40b3-a6c8-d6279c9670fe",
   "metadata": {},
   "outputs": [
    {
     "data": {
      "text/plain": [
       "1.3333333333333333"
      ]
     },
     "execution_count": 11,
     "metadata": {},
     "output_type": "execute_result"
    }
   ],
   "source": [
    "lado / 3"
   ]
  },
  {
   "cell_type": "code",
   "execution_count": 12,
   "id": "4dc529f9-bc1f-47f8-bd75-510a1d1dbb11",
   "metadata": {},
   "outputs": [
    {
     "data": {
      "text/plain": [
       "1"
      ]
     },
     "execution_count": 12,
     "metadata": {},
     "output_type": "execute_result"
    }
   ],
   "source": [
    "lado // 3"
   ]
  },
  {
   "cell_type": "code",
   "execution_count": 13,
   "id": "3e4f1c68-a225-4941-8382-f81c161ef497",
   "metadata": {},
   "outputs": [
    {
     "data": {
      "text/plain": [
       "4"
      ]
     },
     "execution_count": 13,
     "metadata": {},
     "output_type": "execute_result"
    }
   ],
   "source": [
    "2 ** 2"
   ]
  },
  {
   "cell_type": "code",
   "execution_count": 14,
   "id": "4c221ec0-59c8-4c68-9c3d-840bf4a4315a",
   "metadata": {},
   "outputs": [
    {
     "data": {
      "text/plain": [
       "27"
      ]
     },
     "execution_count": 14,
     "metadata": {},
     "output_type": "execute_result"
    }
   ],
   "source": [
    "3 ** 3"
   ]
  },
  {
   "cell_type": "code",
   "execution_count": 19,
   "id": "d6796f71-f37c-42e2-a7b0-a5efb24d32d3",
   "metadata": {},
   "outputs": [],
   "source": [
    "# Teorema de Pitágoras\n",
    "# h = (c_1 ** 2 + c_2 ** 2) ** 0.5\n",
    "c_1 = 3\n",
    "c_2 = 4\n",
    "h = (c_1 ** 2 + c_2 ** 2) ** 0.5"
   ]
  },
  {
   "cell_type": "code",
   "execution_count": 17,
   "id": "29390ab2-7480-4f9a-a6f9-6df6755da312",
   "metadata": {},
   "outputs": [
    {
     "data": {
      "text/plain": [
       "5.0"
      ]
     },
     "execution_count": 17,
     "metadata": {},
     "output_type": "execute_result"
    }
   ],
   "source": [
    "h"
   ]
  },
  {
   "cell_type": "code",
   "execution_count": 56,
   "id": "d07091ee-919f-480d-a755-448461f20b4b",
   "metadata": {},
   "outputs": [
    {
     "data": {
      "text/plain": [
       "'José'"
      ]
     },
     "execution_count": 56,
     "metadata": {},
     "output_type": "execute_result"
    }
   ],
   "source": [
    "\"José\""
   ]
  },
  {
   "cell_type": "code",
   "execution_count": 57,
   "id": "bbf9ed44-3aed-4ff7-8cbd-573f2cdb52b0",
   "metadata": {},
   "outputs": [
    {
     "data": {
      "text/plain": [
       "'Maria'"
      ]
     },
     "execution_count": 57,
     "metadata": {},
     "output_type": "execute_result"
    }
   ],
   "source": [
    "'Maria'"
   ]
  },
  {
   "cell_type": "code",
   "execution_count": 58,
   "id": "b6d71581-cf81-494b-9d22-d2dc41eb6307",
   "metadata": {},
   "outputs": [
    {
     "ename": "SyntaxError",
     "evalue": "unterminated string literal (detected at line 1) (1489690003.py, line 1)",
     "output_type": "error",
     "traceback": [
      "\u001b[1;36m  Cell \u001b[1;32mIn [58], line 1\u001b[1;36m\u001b[0m\n\u001b[1;33m    'José e Maria\"\u001b[0m\n\u001b[1;37m    ^\u001b[0m\n\u001b[1;31mSyntaxError\u001b[0m\u001b[1;31m:\u001b[0m unterminated string literal (detected at line 1)\n"
     ]
    }
   ],
   "source": [
    "'José e Maria\""
   ]
  },
  {
   "cell_type": "code",
   "execution_count": 59,
   "id": "b75b0dd4-cb14-4104-aeb2-7b4470d2a45a",
   "metadata": {},
   "outputs": [
    {
     "data": {
      "text/plain": [
       "\"Um copo d'água\""
      ]
     },
     "execution_count": 59,
     "metadata": {},
     "output_type": "execute_result"
    }
   ],
   "source": [
    "\"Um copo d'água\""
   ]
  },
  {
   "cell_type": "code",
   "execution_count": 60,
   "id": "90375b71-b46f-493e-82e9-d1761af9e2ec",
   "metadata": {},
   "outputs": [
    {
     "data": {
      "text/plain": [
       "\"Um copo d'água\""
      ]
     },
     "execution_count": 60,
     "metadata": {},
     "output_type": "execute_result"
    }
   ],
   "source": [
    "'Um copo d\\'água'"
   ]
  },
  {
   "cell_type": "code",
   "execution_count": 61,
   "id": "b4c406d5-72ea-46f8-8fe7-34c91504e225",
   "metadata": {},
   "outputs": [
    {
     "data": {
      "text/plain": [
       "'\"Não\", disse ele'"
      ]
     },
     "execution_count": 61,
     "metadata": {},
     "output_type": "execute_result"
    }
   ],
   "source": [
    "'\"Não\", disse ele'"
   ]
  },
  {
   "cell_type": "code",
   "execution_count": 62,
   "id": "56f1cc0b-28b1-407f-bede-d3903cee1145",
   "metadata": {},
   "outputs": [
    {
     "data": {
      "text/plain": [
       "'\"Não\", disse ele'"
      ]
     },
     "execution_count": 62,
     "metadata": {},
     "output_type": "execute_result"
    }
   ],
   "source": [
    "\"\\\"Não\\\", disse ele\""
   ]
  },
  {
   "cell_type": "code",
   "execution_count": 64,
   "id": "15f267c4-fb84-45d5-90d9-89f7a15dd05b",
   "metadata": {},
   "outputs": [
    {
     "name": "stdout",
     "output_type": "stream",
     "text": [
      "\"Não\", \n",
      " disse ele\n"
     ]
    }
   ],
   "source": [
    "print(\"\\\"Não\\\", \\n disse ele\")"
   ]
  },
  {
   "cell_type": "code",
   "execution_count": 65,
   "id": "40755664-9cdb-491b-a984-282766e899ee",
   "metadata": {},
   "outputs": [
    {
     "data": {
      "text/plain": [
       "'\"Não\", \\n disse ele'"
      ]
     },
     "execution_count": 65,
     "metadata": {},
     "output_type": "execute_result"
    }
   ],
   "source": [
    "'\"Não\", \\n disse ele'"
   ]
  },
  {
   "cell_type": "code",
   "execution_count": 66,
   "id": "5727b2f4-130a-4477-a546-c56338e6d195",
   "metadata": {},
   "outputs": [
    {
     "name": "stdout",
     "output_type": "stream",
     "text": [
      "\"Não\", \\n disse ele\n"
     ]
    }
   ],
   "source": [
    "print(r'\"Não\", \\n disse ele')"
   ]
  },
  {
   "cell_type": "code",
   "execution_count": 77,
   "id": "d5c0a831-5c93-4d99-b16c-2dd7441840e8",
   "metadata": {},
   "outputs": [
    {
     "name": "stdout",
     "output_type": "stream",
     "text": [
      "primeira linha\n",
      "segunda linha\n",
      "terceira linha\n"
     ]
    }
   ],
   "source": [
    "print(r\"\"\"primeira linha\n",
    "segunda linha\n",
    "terceira linha\"\"\")"
   ]
  }
 ],
 "metadata": {
  "kernelspec": {
   "display_name": "Python 3 (ipykernel)",
   "language": "python",
   "name": "python3"
  },
  "language_info": {
   "codemirror_mode": {
    "name": "ipython",
    "version": 3
   },
   "file_extension": ".py",
   "mimetype": "text/x-python",
   "name": "python",
   "nbconvert_exporter": "python",
   "pygments_lexer": "ipython3",
   "version": "3.10.7"
  }
 },
 "nbformat": 4,
 "nbformat_minor": 5
}
