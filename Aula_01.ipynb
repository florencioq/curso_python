{
 "cells": [
  {
   "cell_type": "code",
   "execution_count": 1,
   "id": "3cc742f3-1480-4e16-8c1c-5948c3e7d3db",
   "metadata": {},
   "outputs": [],
   "source": [
    "# Isto é um comentário\n",
    "spam = 1\n"
   ]
  },
  {
   "cell_type": "code",
   "execution_count": 2,
   "id": "3108d079-0947-40cf-b72b-c7b5f328631d",
   "metadata": {},
   "outputs": [
    {
     "data": {
      "text/plain": [
       "1"
      ]
     },
     "execution_count": 2,
     "metadata": {},
     "output_type": "execute_result"
    }
   ],
   "source": [
    "spam"
   ]
  },
  {
   "cell_type": "code",
   "execution_count": 3,
   "id": "fe16ab3e-e53a-435b-a36d-ade263f21834",
   "metadata": {},
   "outputs": [
    {
     "data": {
      "text/plain": [
       "4"
      ]
     },
     "execution_count": 3,
     "metadata": {},
     "output_type": "execute_result"
    }
   ],
   "source": [
    "2 + 2"
   ]
  },
  {
   "cell_type": "code",
   "execution_count": 4,
   "id": "19699ef1-3d35-40a2-95fa-f722b1de66f7",
   "metadata": {},
   "outputs": [
    {
     "data": {
      "text/plain": [
       "44"
      ]
     },
     "execution_count": 4,
     "metadata": {},
     "output_type": "execute_result"
    }
   ],
   "source": [
    "50 - 2*3"
   ]
  },
  {
   "cell_type": "code",
   "execution_count": 5,
   "id": "abcd88de-fa57-49e3-b4f4-ad2b4615359b",
   "metadata": {},
   "outputs": [
    {
     "data": {
      "text/plain": [
       "13.333333333333334"
      ]
     },
     "execution_count": 5,
     "metadata": {},
     "output_type": "execute_result"
    }
   ],
   "source": [
    "40 / 3"
   ]
  },
  {
   "cell_type": "code",
   "execution_count": 6,
   "id": "168caf8e-8e37-48ec-a6a7-30e18fcbaa00",
   "metadata": {},
   "outputs": [
    {
     "data": {
      "text/plain": [
       "20.0"
      ]
     },
     "execution_count": 6,
     "metadata": {},
     "output_type": "execute_result"
    }
   ],
   "source": [
    "40 /2 "
   ]
  },
  {
   "cell_type": "code",
   "execution_count": 7,
   "id": "5bbc88d0-dfc6-4a15-9465-d2cc24dba4e7",
   "metadata": {},
   "outputs": [
    {
     "data": {
      "text/plain": [
       "20"
      ]
     },
     "execution_count": 7,
     "metadata": {},
     "output_type": "execute_result"
    }
   ],
   "source": [
    "40 // 2"
   ]
  },
  {
   "cell_type": "code",
   "execution_count": 8,
   "id": "d4073c9e-ba84-4944-a9c3-317d13108ae1",
   "metadata": {},
   "outputs": [
    {
     "data": {
      "text/plain": [
       "13"
      ]
     },
     "execution_count": 8,
     "metadata": {},
     "output_type": "execute_result"
    }
   ],
   "source": [
    "40 // 3"
   ]
  },
  {
   "cell_type": "code",
   "execution_count": 9,
   "id": "31e8128b-fb05-473e-ab16-0adb10bfd25b",
   "metadata": {},
   "outputs": [
    {
     "data": {
      "text/plain": [
       "1"
      ]
     },
     "execution_count": 9,
     "metadata": {},
     "output_type": "execute_result"
    }
   ],
   "source": [
    "40 % 3"
   ]
  },
  {
   "cell_type": "code",
   "execution_count": 10,
   "id": "822477df-4ef9-4665-874c-9bd6002e0fb4",
   "metadata": {},
   "outputs": [],
   "source": [
    "lado = 4"
   ]
  },
  {
   "cell_type": "code",
   "execution_count": 11,
   "id": "bfab3c23-2fbb-40b3-a6c8-d6279c9670fe",
   "metadata": {},
   "outputs": [
    {
     "data": {
      "text/plain": [
       "1.3333333333333333"
      ]
     },
     "execution_count": 11,
     "metadata": {},
     "output_type": "execute_result"
    }
   ],
   "source": [
    "lado / 3"
   ]
  },
  {
   "cell_type": "code",
   "execution_count": 12,
   "id": "4dc529f9-bc1f-47f8-bd75-510a1d1dbb11",
   "metadata": {},
   "outputs": [
    {
     "data": {
      "text/plain": [
       "1"
      ]
     },
     "execution_count": 12,
     "metadata": {},
     "output_type": "execute_result"
    }
   ],
   "source": [
    "lado // 3"
   ]
  },
  {
   "cell_type": "code",
   "execution_count": 13,
   "id": "3e4f1c68-a225-4941-8382-f81c161ef497",
   "metadata": {},
   "outputs": [
    {
     "data": {
      "text/plain": [
       "4"
      ]
     },
     "execution_count": 13,
     "metadata": {},
     "output_type": "execute_result"
    }
   ],
   "source": [
    "2 ** 2"
   ]
  },
  {
   "cell_type": "code",
   "execution_count": 14,
   "id": "4c221ec0-59c8-4c68-9c3d-840bf4a4315a",
   "metadata": {},
   "outputs": [
    {
     "data": {
      "text/plain": [
       "27"
      ]
     },
     "execution_count": 14,
     "metadata": {},
     "output_type": "execute_result"
    }
   ],
   "source": [
    "3 ** 3"
   ]
  },
  {
   "cell_type": "code",
   "execution_count": 19,
   "id": "d6796f71-f37c-42e2-a7b0-a5efb24d32d3",
   "metadata": {},
   "outputs": [],
   "source": [
    "# Teorema de Pitágoras\n",
    "# h = (c_1 ** 2 + c_2 ** 2) ** 0.5\n",
    "c_1 = 3\n",
    "c_2 = 4\n",
    "h = (c_1 ** 2 + c_2 ** 2) ** 0.5"
   ]
  },
  {
   "cell_type": "code",
   "execution_count": 17,
   "id": "29390ab2-7480-4f9a-a6f9-6df6755da312",
   "metadata": {},
   "outputs": [
    {
     "data": {
      "text/plain": [
       "5.0"
      ]
     },
     "execution_count": 17,
     "metadata": {},
     "output_type": "execute_result"
    }
   ],
   "source": [
    "h"
   ]
  },
  {
   "cell_type": "code",
   "execution_count": 56,
   "id": "d07091ee-919f-480d-a755-448461f20b4b",
   "metadata": {},
   "outputs": [
    {
     "data": {
      "text/plain": [
       "'José'"
      ]
     },
     "execution_count": 56,
     "metadata": {},
     "output_type": "execute_result"
    }
   ],
   "source": [
    "\"José\""
   ]
  },
  {
   "cell_type": "code",
   "execution_count": 57,
   "id": "bbf9ed44-3aed-4ff7-8cbd-573f2cdb52b0",
   "metadata": {},
   "outputs": [
    {
     "data": {
      "text/plain": [
       "'Maria'"
      ]
     },
     "execution_count": 57,
     "metadata": {},
     "output_type": "execute_result"
    }
   ],
   "source": [
    "'Maria'"
   ]
  },
  {
   "cell_type": "code",
   "execution_count": 58,
   "id": "b6d71581-cf81-494b-9d22-d2dc41eb6307",
   "metadata": {},
   "outputs": [
    {
     "ename": "SyntaxError",
     "evalue": "unterminated string literal (detected at line 1) (1489690003.py, line 1)",
     "output_type": "error",
     "traceback": [
      "\u001b[1;36m  Cell \u001b[1;32mIn [58], line 1\u001b[1;36m\u001b[0m\n\u001b[1;33m    'José e Maria\"\u001b[0m\n\u001b[1;37m    ^\u001b[0m\n\u001b[1;31mSyntaxError\u001b[0m\u001b[1;31m:\u001b[0m unterminated string literal (detected at line 1)\n"
     ]
    }
   ],
   "source": [
    "'José e Maria\""
   ]
  },
  {
   "cell_type": "code",
   "execution_count": 59,
   "id": "b75b0dd4-cb14-4104-aeb2-7b4470d2a45a",
   "metadata": {},
   "outputs": [
    {
     "data": {
      "text/plain": [
       "\"Um copo d'água\""
      ]
     },
     "execution_count": 59,
     "metadata": {},
     "output_type": "execute_result"
    }
   ],
   "source": [
    "\"Um copo d'água\""
   ]
  },
  {
   "cell_type": "code",
   "execution_count": 60,
   "id": "90375b71-b46f-493e-82e9-d1761af9e2ec",
   "metadata": {},
   "outputs": [
    {
     "data": {
      "text/plain": [
       "\"Um copo d'água\""
      ]
     },
     "execution_count": 60,
     "metadata": {},
     "output_type": "execute_result"
    }
   ],
   "source": [
    "'Um copo d\\'água'"
   ]
  },
  {
   "cell_type": "code",
   "execution_count": 61,
   "id": "b4c406d5-72ea-46f8-8fe7-34c91504e225",
   "metadata": {},
   "outputs": [
    {
     "data": {
      "text/plain": [
       "'\"Não\", disse ele'"
      ]
     },
     "execution_count": 61,
     "metadata": {},
     "output_type": "execute_result"
    }
   ],
   "source": [
    "'\"Não\", disse ele'"
   ]
  },
  {
   "cell_type": "code",
   "execution_count": 62,
   "id": "56f1cc0b-28b1-407f-bede-d3903cee1145",
   "metadata": {},
   "outputs": [
    {
     "data": {
      "text/plain": [
       "'\"Não\", disse ele'"
      ]
     },
     "execution_count": 62,
     "metadata": {},
     "output_type": "execute_result"
    }
   ],
   "source": [
    "\"\\\"Não\\\", disse ele\""
   ]
  },
  {
   "cell_type": "code",
   "execution_count": 64,
   "id": "15f267c4-fb84-45d5-90d9-89f7a15dd05b",
   "metadata": {},
   "outputs": [
    {
     "name": "stdout",
     "output_type": "stream",
     "text": [
      "\"Não\", \n",
      " disse ele\n"
     ]
    }
   ],
   "source": [
    "print(\"\\\"Não\\\", \\n disse ele\")"
   ]
  },
  {
   "cell_type": "code",
   "execution_count": 65,
   "id": "40755664-9cdb-491b-a984-282766e899ee",
   "metadata": {},
   "outputs": [
    {
     "data": {
      "text/plain": [
       "'\"Não\", \\n disse ele'"
      ]
     },
     "execution_count": 65,
     "metadata": {},
     "output_type": "execute_result"
    }
   ],
   "source": [
    "'\"Não\", \\n disse ele'"
   ]
  },
  {
   "cell_type": "code",
   "execution_count": 66,
   "id": "5727b2f4-130a-4477-a546-c56338e6d195",
   "metadata": {},
   "outputs": [
    {
     "name": "stdout",
     "output_type": "stream",
     "text": [
      "\"Não\", \\n disse ele\n"
     ]
    }
   ],
   "source": [
    "print(r'\"Não\", \\n disse ele')"
   ]
  },
  {
   "cell_type": "code",
   "execution_count": 77,
   "id": "d5c0a831-5c93-4d99-b16c-2dd7441840e8",
   "metadata": {},
   "outputs": [
    {
     "name": "stdout",
     "output_type": "stream",
     "text": [
      "primeira linha\n",
      "segunda linha\n",
      "terceira linha\n"
     ]
    }
   ],
   "source": [
    "print(r\"\"\"primeira linha\n",
    "segunda linha\n",
    "terceira linha\"\"\")"
   ]
  },
  {
   "cell_type": "code",
   "execution_count": 2,
   "id": "f0546fd0-8fd3-4233-bc68-9ca6fdf9d9b1",
   "metadata": {},
   "outputs": [
    {
     "data": {
      "text/plain": [
       "'Hoje é Sábado'"
      ]
     },
     "execution_count": 2,
     "metadata": {},
     "output_type": "execute_result"
    }
   ],
   "source": [
    "\"Hoje é\" + \" Sábado\""
   ]
  },
  {
   "cell_type": "code",
   "execution_count": 3,
   "id": "2bad5aba-4a97-45d9-b0fa-eadb0c294c01",
   "metadata": {},
   "outputs": [
    {
     "ename": "TypeError",
     "evalue": "can only concatenate str (not \"int\") to str",
     "output_type": "error",
     "traceback": [
      "\u001b[1;31m---------------------------------------------------------------------------\u001b[0m",
      "\u001b[1;31mTypeError\u001b[0m                                 Traceback (most recent call last)",
      "Cell \u001b[1;32mIn [3], line 1\u001b[0m\n\u001b[1;32m----> 1\u001b[0m \u001b[38;5;124;43m\"\u001b[39;49m\u001b[38;5;124;43mDomindo\u001b[39;49m\u001b[38;5;124;43m\"\u001b[39;49m\u001b[43m \u001b[49m\u001b[38;5;241;43m+\u001b[39;49m\u001b[43m \u001b[49m\u001b[38;5;241;43m2\u001b[39;49m\n",
      "\u001b[1;31mTypeError\u001b[0m: can only concatenate str (not \"int\") to str"
     ]
    }
   ],
   "source": [
    "\"Domindo\" + 2"
   ]
  },
  {
   "cell_type": "code",
   "execution_count": 4,
   "id": "b1e3cf00-f56f-4d70-9035-a0c4ea8a43dd",
   "metadata": {},
   "outputs": [
    {
     "data": {
      "text/plain": [
       "'JoseJose'"
      ]
     },
     "execution_count": 4,
     "metadata": {},
     "output_type": "execute_result"
    }
   ],
   "source": [
    "\"Jose\" * 2"
   ]
  },
  {
   "cell_type": "code",
   "execution_count": 5,
   "id": "5772e370-fdd6-4154-ac8c-677cedc33603",
   "metadata": {},
   "outputs": [
    {
     "data": {
      "text/plain": [
       "'Hoje Hoje Hoje Hoje Hoje Hoje Hoje Hoje Hoje Hoje '"
      ]
     },
     "execution_count": 5,
     "metadata": {},
     "output_type": "execute_result"
    }
   ],
   "source": [
    "10 * \"Hoje \""
   ]
  },
  {
   "cell_type": "code",
   "execution_count": 7,
   "id": "d16af5eb-1eae-44b1-b93d-cb83bc4d7ace",
   "metadata": {},
   "outputs": [
    {
     "data": {
      "text/plain": [
       "'José Florencio'"
      ]
     },
     "execution_count": 7,
     "metadata": {},
     "output_type": "execute_result"
    }
   ],
   "source": [
    "\"José\" + \" Florencio\""
   ]
  },
  {
   "cell_type": "code",
   "execution_count": 8,
   "id": "ed64e54a-b41a-47d3-acd0-3a4c18ded917",
   "metadata": {},
   "outputs": [],
   "source": [
    "nome = \"José\""
   ]
  },
  {
   "cell_type": "code",
   "execution_count": 10,
   "id": "d446d60e-8d4d-4eab-b1fd-2272b5ff3481",
   "metadata": {},
   "outputs": [
    {
     "data": {
      "text/plain": [
       "'José Florencio'"
      ]
     },
     "execution_count": 10,
     "metadata": {},
     "output_type": "execute_result"
    }
   ],
   "source": [
    "nome + \" Florencio\""
   ]
  },
  {
   "cell_type": "code",
   "execution_count": 11,
   "id": "645c44ec-c68c-40af-b638-c36bf049419d",
   "metadata": {},
   "outputs": [
    {
     "data": {
      "text/plain": [
       "'JoséJosé'"
      ]
     },
     "execution_count": 11,
     "metadata": {},
     "output_type": "execute_result"
    }
   ],
   "source": [
    "2 * nome"
   ]
  },
  {
   "cell_type": "code",
   "execution_count": 12,
   "id": "1dc0ba07-1126-47ab-9300-eca0e9a5d070",
   "metadata": {},
   "outputs": [
    {
     "data": {
      "text/plain": [
       "'Python'"
      ]
     },
     "execution_count": 12,
     "metadata": {},
     "output_type": "execute_result"
    }
   ],
   "source": [
    "\"Python\""
   ]
  },
  {
   "cell_type": "code",
   "execution_count": 14,
   "id": "6e33307f-7dc2-4a93-9b90-71358c42b7ba",
   "metadata": {},
   "outputs": [],
   "source": [
    "linguagem = \"Python\""
   ]
  },
  {
   "cell_type": "code",
   "execution_count": 15,
   "id": "287f4863-d80c-4fd9-b879-269728dd1370",
   "metadata": {},
   "outputs": [
    {
     "data": {
      "text/plain": [
       "'Python'"
      ]
     },
     "execution_count": 15,
     "metadata": {},
     "output_type": "execute_result"
    }
   ],
   "source": [
    "linguagem"
   ]
  },
  {
   "cell_type": "code",
   "execution_count": 17,
   "id": "8fb53144-13b7-4b79-92b5-18446629ac67",
   "metadata": {},
   "outputs": [
    {
     "data": {
      "text/plain": [
       "'t'"
      ]
     },
     "execution_count": 17,
     "metadata": {},
     "output_type": "execute_result"
    }
   ],
   "source": [
    "linguagem[2]"
   ]
  },
  {
   "cell_type": "code",
   "execution_count": 19,
   "id": "d034b7f2-d763-4947-b905-627526d2932f",
   "metadata": {},
   "outputs": [
    {
     "data": {
      "text/plain": [
       "'h'"
      ]
     },
     "execution_count": 19,
     "metadata": {},
     "output_type": "execute_result"
    }
   ],
   "source": [
    "linguagem[-3]"
   ]
  },
  {
   "cell_type": "code",
   "execution_count": 20,
   "id": "ac23c54e-6bff-4ccd-9170-818a20994dae",
   "metadata": {},
   "outputs": [],
   "source": [
    "nome = \"João da Silva\""
   ]
  },
  {
   "cell_type": "code",
   "execution_count": 21,
   "id": "00e838a4-db5a-48c2-830d-ef4b6cc563b1",
   "metadata": {},
   "outputs": [
    {
     "data": {
      "text/plain": [
       "'João'"
      ]
     },
     "execution_count": 21,
     "metadata": {},
     "output_type": "execute_result"
    }
   ],
   "source": [
    "nome[0:4]"
   ]
  },
  {
   "cell_type": "code",
   "execution_count": 22,
   "id": "7ace43c8-7eb0-44cd-bdc7-647d0e31c90b",
   "metadata": {},
   "outputs": [
    {
     "data": {
      "text/plain": [
       "'João'"
      ]
     },
     "execution_count": 22,
     "metadata": {},
     "output_type": "execute_result"
    }
   ],
   "source": [
    "nome[:4]"
   ]
  },
  {
   "cell_type": "code",
   "execution_count": 23,
   "id": "e306773c-8228-43a5-b7db-58b3fe91b023",
   "metadata": {},
   "outputs": [
    {
     "data": {
      "text/plain": [
       "'Silva'"
      ]
     },
     "execution_count": 23,
     "metadata": {},
     "output_type": "execute_result"
    }
   ],
   "source": [
    "nome[8:]"
   ]
  },
  {
   "cell_type": "code",
   "execution_count": 24,
   "id": "6b9e826b-a7a9-4b72-84fc-7f03d1380f16",
   "metadata": {},
   "outputs": [
    {
     "data": {
      "text/plain": [
       "'Silva'"
      ]
     },
     "execution_count": 24,
     "metadata": {},
     "output_type": "execute_result"
    }
   ],
   "source": [
    "nome[-5:]"
   ]
  },
  {
   "cell_type": "code",
   "execution_count": 25,
   "id": "7d71aac6-bf66-4a2a-b43b-8f422adb19f2",
   "metadata": {},
   "outputs": [
    {
     "ename": "IndexError",
     "evalue": "string index out of range",
     "output_type": "error",
     "traceback": [
      "\u001b[1;31m---------------------------------------------------------------------------\u001b[0m",
      "\u001b[1;31mIndexError\u001b[0m                                Traceback (most recent call last)",
      "Cell \u001b[1;32mIn [25], line 1\u001b[0m\n\u001b[1;32m----> 1\u001b[0m \u001b[43mnome\u001b[49m\u001b[43m[\u001b[49m\u001b[38;5;241;43m100\u001b[39;49m\u001b[43m]\u001b[49m\n",
      "\u001b[1;31mIndexError\u001b[0m: string index out of range"
     ]
    }
   ],
   "source": [
    "nome[100]"
   ]
  },
  {
   "cell_type": "code",
   "execution_count": 26,
   "id": "9836ca77-eebe-48c1-9335-a18aff72d53c",
   "metadata": {},
   "outputs": [
    {
     "data": {
      "text/plain": [
       "'o da Silva'"
      ]
     },
     "execution_count": 26,
     "metadata": {},
     "output_type": "execute_result"
    }
   ],
   "source": [
    "nome[3:100]"
   ]
  },
  {
   "cell_type": "code",
   "execution_count": 27,
   "id": "03aed4a1-b7cd-480a-a784-820c90c0b007",
   "metadata": {},
   "outputs": [
    {
     "data": {
      "text/plain": [
       "''"
      ]
     },
     "execution_count": 27,
     "metadata": {},
     "output_type": "execute_result"
    }
   ],
   "source": [
    "nome[100:200]"
   ]
  },
  {
   "cell_type": "code",
   "execution_count": 28,
   "id": "cbc8d443-9a33-402e-ad14-654194d7fe7b",
   "metadata": {},
   "outputs": [
    {
     "data": {
      "text/plain": [
       "'João da Silva'"
      ]
     },
     "execution_count": 28,
     "metadata": {},
     "output_type": "execute_result"
    }
   ],
   "source": [
    "nome"
   ]
  },
  {
   "cell_type": "code",
   "execution_count": 46,
   "id": "7058cf39-34de-4dd1-b14b-cce4b6050413",
   "metadata": {},
   "outputs": [],
   "source": [
    "nome = \"Maria da Silva\""
   ]
  },
  {
   "cell_type": "code",
   "execution_count": 47,
   "id": "dff568c8-69fe-4c42-93f0-22caddc1a4e7",
   "metadata": {},
   "outputs": [
    {
     "ename": "TypeError",
     "evalue": "'str' object does not support item assignment",
     "output_type": "error",
     "traceback": [
      "\u001b[1;31m---------------------------------------------------------------------------\u001b[0m",
      "\u001b[1;31mTypeError\u001b[0m                                 Traceback (most recent call last)",
      "Cell \u001b[1;32mIn [47], line 1\u001b[0m\n\u001b[1;32m----> 1\u001b[0m \u001b[43mnome\u001b[49m\u001b[43m[\u001b[49m\u001b[38;5;241;43m0\u001b[39;49m\u001b[43m]\u001b[49m \u001b[38;5;241m=\u001b[39m \u001b[38;5;124m\"\u001b[39m\u001b[38;5;124mJ\u001b[39m\u001b[38;5;124m\"\u001b[39m\n",
      "\u001b[1;31mTypeError\u001b[0m: 'str' object does not support item assignment"
     ]
    }
   ],
   "source": [
    "nome[0] = \"J\""
   ]
  },
  {
   "cell_type": "code",
   "execution_count": 48,
   "id": "872db74f-57ec-4a34-a163-2de9e02145df",
   "metadata": {},
   "outputs": [],
   "source": [
    "nome = \"maria da silva\""
   ]
  },
  {
   "cell_type": "code",
   "execution_count": 49,
   "id": "f2f0676c-f3c1-4af9-a3a4-c7378135315e",
   "metadata": {},
   "outputs": [
    {
     "data": {
      "text/plain": [
       "'Maria da silva'"
      ]
     },
     "execution_count": 49,
     "metadata": {},
     "output_type": "execute_result"
    }
   ],
   "source": [
    "nome.capitalize()"
   ]
  },
  {
   "cell_type": "code",
   "execution_count": 50,
   "id": "b503a969-afb1-43fb-8cc5-869431076cdf",
   "metadata": {},
   "outputs": [
    {
     "data": {
      "text/plain": [
       "'maria da silva'"
      ]
     },
     "execution_count": 50,
     "metadata": {},
     "output_type": "execute_result"
    }
   ],
   "source": [
    "nome"
   ]
  },
  {
   "cell_type": "code",
   "execution_count": 51,
   "id": "b9db9300-3173-497f-ad4d-5d4218293b04",
   "metadata": {},
   "outputs": [],
   "source": [
    "nome = nome.capitalize()"
   ]
  },
  {
   "cell_type": "code",
   "execution_count": 52,
   "id": "42434af7-4955-473a-a2f3-e66db77f947c",
   "metadata": {},
   "outputs": [
    {
     "data": {
      "text/plain": [
       "'Maria da silva'"
      ]
     },
     "execution_count": 52,
     "metadata": {},
     "output_type": "execute_result"
    }
   ],
   "source": [
    "nome"
   ]
  },
  {
   "cell_type": "code",
   "execution_count": 53,
   "id": "c2548db7-0552-405f-9c3c-26c94d6182b8",
   "metadata": {},
   "outputs": [
    {
     "data": {
      "text/plain": [
       "14"
      ]
     },
     "execution_count": 53,
     "metadata": {},
     "output_type": "execute_result"
    }
   ],
   "source": [
    "len(nome)"
   ]
  },
  {
   "cell_type": "code",
   "execution_count": 54,
   "id": "82f35a0d-6016-480e-a516-7ed6001a32cd",
   "metadata": {},
   "outputs": [],
   "source": [
    "objeto = \"mesa\""
   ]
  },
  {
   "cell_type": "code",
   "execution_count": 55,
   "id": "bccd620c-b7dc-4a33-9d10-f0ed6f10daae",
   "metadata": {},
   "outputs": [
    {
     "data": {
      "text/plain": [
       "'mesa'"
      ]
     },
     "execution_count": 55,
     "metadata": {},
     "output_type": "execute_result"
    }
   ],
   "source": [
    "objeto"
   ]
  },
  {
   "cell_type": "code",
   "execution_count": 56,
   "id": "97e6b2db-93b7-4adf-aafd-2dd6767e845b",
   "metadata": {},
   "outputs": [
    {
     "data": {
      "text/plain": [
       "'   mesa   '"
      ]
     },
     "execution_count": 56,
     "metadata": {},
     "output_type": "execute_result"
    }
   ],
   "source": [
    "objeto.center(10)"
   ]
  },
  {
   "cell_type": "code",
   "execution_count": 57,
   "id": "88ee71a9-e900-42b2-b073-6727055805cf",
   "metadata": {},
   "outputs": [
    {
     "data": {
      "text/plain": [
       "'mesa'"
      ]
     },
     "execution_count": 57,
     "metadata": {},
     "output_type": "execute_result"
    }
   ],
   "source": [
    "objeto"
   ]
  },
  {
   "cell_type": "code",
   "execution_count": 58,
   "id": "8a8d0e1e-9594-40e5-9b40-8268201f4828",
   "metadata": {},
   "outputs": [],
   "source": [
    "nome = \"Maria da Silva\""
   ]
  },
  {
   "cell_type": "code",
   "execution_count": 59,
   "id": "fabf058f-3ad4-4c72-b6d5-ebacdb630500",
   "metadata": {},
   "outputs": [
    {
     "data": {
      "text/plain": [
       "'Maria da Silva'"
      ]
     },
     "execution_count": 59,
     "metadata": {},
     "output_type": "execute_result"
    }
   ],
   "source": [
    "nome"
   ]
  },
  {
   "cell_type": "code",
   "execution_count": 60,
   "id": "25c97fd3-8cd0-4f9a-a918-bb0622b4e391",
   "metadata": {},
   "outputs": [
    {
     "data": {
      "text/plain": [
       "2"
      ]
     },
     "execution_count": 60,
     "metadata": {},
     "output_type": "execute_result"
    }
   ],
   "source": [
    "nome.find(\"ri\")"
   ]
  },
  {
   "cell_type": "code",
   "execution_count": 61,
   "id": "2dce356d-df7d-46b0-856b-ed50e8bb857f",
   "metadata": {},
   "outputs": [
    {
     "data": {
      "text/plain": [
       "'maria da silva'"
      ]
     },
     "execution_count": 61,
     "metadata": {},
     "output_type": "execute_result"
    }
   ],
   "source": [
    "nome.lower()"
   ]
  },
  {
   "cell_type": "code",
   "execution_count": 62,
   "id": "913f6c5b-e89c-423e-9e22-2f16dd1377df",
   "metadata": {},
   "outputs": [],
   "source": [
    "nome = nome.lower()"
   ]
  },
  {
   "cell_type": "code",
   "execution_count": 63,
   "id": "da33a84f-7103-429f-8f80-d240003cb12c",
   "metadata": {},
   "outputs": [
    {
     "data": {
      "text/plain": [
       "'maria da silva'"
      ]
     },
     "execution_count": 63,
     "metadata": {},
     "output_type": "execute_result"
    }
   ],
   "source": [
    "nome"
   ]
  },
  {
   "cell_type": "code",
   "execution_count": 64,
   "id": "8f5f8b8c-7c7a-41d7-817f-e5de847e125c",
   "metadata": {},
   "outputs": [],
   "source": [
    "nome = nome.upper()"
   ]
  },
  {
   "cell_type": "code",
   "execution_count": 65,
   "id": "b4d3f2b5-8a19-4126-81e5-185ba7909788",
   "metadata": {},
   "outputs": [
    {
     "data": {
      "text/plain": [
       "'MARIA DA SILVA'"
      ]
     },
     "execution_count": 65,
     "metadata": {},
     "output_type": "execute_result"
    }
   ],
   "source": [
    "nome"
   ]
  },
  {
   "cell_type": "code",
   "execution_count": 3,
   "id": "acf42af5-e3f4-4741-ae27-15fa22a292a7",
   "metadata": {},
   "outputs": [],
   "source": [
    "numeros = [0, 1, 2, 3, 4, 5]"
   ]
  },
  {
   "cell_type": "code",
   "execution_count": 4,
   "id": "d45fe824-325d-41e8-8ab4-46a45e165b2d",
   "metadata": {},
   "outputs": [
    {
     "data": {
      "text/plain": [
       "[0, 1, 2, 3, 4, 5]"
      ]
     },
     "execution_count": 4,
     "metadata": {},
     "output_type": "execute_result"
    }
   ],
   "source": [
    "numeros"
   ]
  },
  {
   "cell_type": "code",
   "execution_count": 5,
   "id": "25a8b84c-0110-4182-96cf-799a0a229a28",
   "metadata": {},
   "outputs": [
    {
     "data": {
      "text/plain": [
       "0"
      ]
     },
     "execution_count": 5,
     "metadata": {},
     "output_type": "execute_result"
    }
   ],
   "source": [
    "numeros[0]"
   ]
  },
  {
   "cell_type": "code",
   "execution_count": 6,
   "id": "93a71afd-d759-4828-812b-79249a34b4b2",
   "metadata": {},
   "outputs": [
    {
     "data": {
      "text/plain": [
       "5"
      ]
     },
     "execution_count": 6,
     "metadata": {},
     "output_type": "execute_result"
    }
   ],
   "source": [
    "numeros[-1]"
   ]
  },
  {
   "cell_type": "code",
   "execution_count": 7,
   "id": "2fe53627-d46c-43f2-a3c7-a1eec82b7bc4",
   "metadata": {},
   "outputs": [
    {
     "data": {
      "text/plain": [
       "[3, 4, 5]"
      ]
     },
     "execution_count": 7,
     "metadata": {},
     "output_type": "execute_result"
    }
   ],
   "source": [
    "numeros[-3:]"
   ]
  },
  {
   "cell_type": "code",
   "execution_count": 8,
   "id": "e5a7eb81-17a3-4520-9d55-614253abbb7f",
   "metadata": {},
   "outputs": [
    {
     "data": {
      "text/plain": [
       "[0, 1, 2, 3, 4, 5]"
      ]
     },
     "execution_count": 8,
     "metadata": {},
     "output_type": "execute_result"
    }
   ],
   "source": [
    "numeros"
   ]
  },
  {
   "cell_type": "code",
   "execution_count": 9,
   "id": "2bd8a0bb-aaea-4f47-b4db-ba31b6043dee",
   "metadata": {},
   "outputs": [
    {
     "ename": "IndexError",
     "evalue": "list index out of range",
     "output_type": "error",
     "traceback": [
      "\u001b[1;31m---------------------------------------------------------------------------\u001b[0m",
      "\u001b[1;31mIndexError\u001b[0m                                Traceback (most recent call last)",
      "Cell \u001b[1;32mIn [9], line 1\u001b[0m\n\u001b[1;32m----> 1\u001b[0m \u001b[43mnumeros\u001b[49m\u001b[43m[\u001b[49m\u001b[38;5;241;43m10\u001b[39;49m\u001b[43m]\u001b[49m\n",
      "\u001b[1;31mIndexError\u001b[0m: list index out of range"
     ]
    }
   ],
   "source": [
    "numeros[10]"
   ]
  },
  {
   "cell_type": "code",
   "execution_count": 10,
   "id": "76c6c5b2-d955-4b60-abc9-adbc30d07019",
   "metadata": {},
   "outputs": [
    {
     "data": {
      "text/plain": [
       "[3, 4, 5]"
      ]
     },
     "execution_count": 10,
     "metadata": {},
     "output_type": "execute_result"
    }
   ],
   "source": [
    "numeros[3:10]"
   ]
  },
  {
   "cell_type": "code",
   "execution_count": 11,
   "id": "a0f234a7-5b14-4e07-a6b9-df73c6beedc2",
   "metadata": {},
   "outputs": [],
   "source": [
    "letras = ['a','b','c','d','e']"
   ]
  },
  {
   "cell_type": "code",
   "execution_count": 12,
   "id": "7b0fa8c8-1814-4d85-9cba-2d50cd7fc719",
   "metadata": {},
   "outputs": [
    {
     "data": {
      "text/plain": [
       "['a', 'b', 'c', 'd', 'e']"
      ]
     },
     "execution_count": 12,
     "metadata": {},
     "output_type": "execute_result"
    }
   ],
   "source": [
    "letras"
   ]
  },
  {
   "cell_type": "code",
   "execution_count": 13,
   "id": "f00fa8c4-04e6-448d-b834-8c155dd53d8e",
   "metadata": {},
   "outputs": [
    {
     "data": {
      "text/plain": [
       "['d', 'e']"
      ]
     },
     "execution_count": 13,
     "metadata": {},
     "output_type": "execute_result"
    }
   ],
   "source": [
    "letras[3:10]"
   ]
  },
  {
   "cell_type": "code",
   "execution_count": 14,
   "id": "ce2fdb48-ad3f-4be4-a1c0-c7c51a50b02b",
   "metadata": {},
   "outputs": [],
   "source": [
    "letras[3] = 'z'"
   ]
  },
  {
   "cell_type": "code",
   "execution_count": 15,
   "id": "a384d54e-e71f-46d2-9787-c265db6afd09",
   "metadata": {},
   "outputs": [
    {
     "data": {
      "text/plain": [
       "['a', 'b', 'c', 'z', 'e']"
      ]
     },
     "execution_count": 15,
     "metadata": {},
     "output_type": "execute_result"
    }
   ],
   "source": [
    "letras"
   ]
  },
  {
   "cell_type": "code",
   "execution_count": 16,
   "id": "393fcfb5-f907-4ab0-a066-571862c67802",
   "metadata": {},
   "outputs": [
    {
     "data": {
      "text/plain": [
       "[0, 1, 2, 3, 4, 5]"
      ]
     },
     "execution_count": 16,
     "metadata": {},
     "output_type": "execute_result"
    }
   ],
   "source": [
    "numeros"
   ]
  },
  {
   "cell_type": "code",
   "execution_count": 17,
   "id": "ad44c299-95af-4616-8731-3bb2e9cb1b19",
   "metadata": {},
   "outputs": [
    {
     "data": {
      "text/plain": [
       "['a', 'b', 'c', 'z', 'e']"
      ]
     },
     "execution_count": 17,
     "metadata": {},
     "output_type": "execute_result"
    }
   ],
   "source": [
    "letras"
   ]
  },
  {
   "cell_type": "code",
   "execution_count": 18,
   "id": "c91ff96a-e321-49e1-ab1d-a2e097297105",
   "metadata": {},
   "outputs": [],
   "source": [
    "nova_lista = numeros + letras"
   ]
  },
  {
   "cell_type": "code",
   "execution_count": 19,
   "id": "8e9a2f2c-1d58-4340-b0e0-85a2e5df0bd7",
   "metadata": {},
   "outputs": [
    {
     "data": {
      "text/plain": [
       "[0, 1, 2, 3, 4, 5, 'a', 'b', 'c', 'z', 'e']"
      ]
     },
     "execution_count": 19,
     "metadata": {},
     "output_type": "execute_result"
    }
   ],
   "source": [
    "nova_lista"
   ]
  },
  {
   "cell_type": "code",
   "execution_count": 20,
   "id": "f2cd4108-0533-4daf-aaf9-b00646ef39f5",
   "metadata": {},
   "outputs": [
    {
     "data": {
      "text/plain": [
       "['a', 'b', 'c', 'z', 'e']"
      ]
     },
     "execution_count": 20,
     "metadata": {},
     "output_type": "execute_result"
    }
   ],
   "source": [
    "letras"
   ]
  },
  {
   "cell_type": "code",
   "execution_count": 21,
   "id": "0edbf32d-d104-418b-8781-0331bbae0317",
   "metadata": {},
   "outputs": [],
   "source": [
    "letras.append('y')"
   ]
  },
  {
   "cell_type": "code",
   "execution_count": 22,
   "id": "ec88a351-061e-4db1-84ad-2bbc204dc1f7",
   "metadata": {},
   "outputs": [
    {
     "data": {
      "text/plain": [
       "['a', 'b', 'c', 'z', 'e', 'y']"
      ]
     },
     "execution_count": 22,
     "metadata": {},
     "output_type": "execute_result"
    }
   ],
   "source": [
    "letras"
   ]
  },
  {
   "cell_type": "code",
   "execution_count": 23,
   "id": "ad2ec80b-019a-4d63-a6ff-c97bb3280eb0",
   "metadata": {},
   "outputs": [
    {
     "data": {
      "text/plain": [
       "6"
      ]
     },
     "execution_count": 23,
     "metadata": {},
     "output_type": "execute_result"
    }
   ],
   "source": [
    "len(letras)"
   ]
  },
  {
   "cell_type": "code",
   "execution_count": 24,
   "id": "abbbf354-6e7a-4fe6-98e8-d69e6a6d4d18",
   "metadata": {},
   "outputs": [
    {
     "data": {
      "text/plain": [
       "5"
      ]
     },
     "execution_count": 24,
     "metadata": {},
     "output_type": "execute_result"
    }
   ],
   "source": [
    "len(\"texto\")"
   ]
  },
  {
   "cell_type": "code",
   "execution_count": 25,
   "id": "d449c05a-1113-47d8-a911-5132948c8e69",
   "metadata": {},
   "outputs": [
    {
     "data": {
      "text/plain": [
       "['a', 'b', 'c', 'z', 'e', 'y']"
      ]
     },
     "execution_count": 25,
     "metadata": {},
     "output_type": "execute_result"
    }
   ],
   "source": [
    "letras"
   ]
  },
  {
   "cell_type": "code",
   "execution_count": 26,
   "id": "045f0b7d-a8d7-4bf9-9f24-5ae221223685",
   "metadata": {},
   "outputs": [
    {
     "data": {
      "text/plain": [
       "[0, 1, 2, 3, 4, 5]"
      ]
     },
     "execution_count": 26,
     "metadata": {},
     "output_type": "execute_result"
    }
   ],
   "source": [
    "numeros"
   ]
  },
  {
   "cell_type": "code",
   "execution_count": 27,
   "id": "b42ac837-fae2-443c-833a-81a450246f73",
   "metadata": {},
   "outputs": [],
   "source": [
    "lista_composta = [letras, numeros]"
   ]
  },
  {
   "cell_type": "code",
   "execution_count": 28,
   "id": "804c5b7e-0462-4eb3-bd7e-b4a6e468c559",
   "metadata": {},
   "outputs": [
    {
     "data": {
      "text/plain": [
       "[['a', 'b', 'c', 'z', 'e', 'y'], [0, 1, 2, 3, 4, 5]]"
      ]
     },
     "execution_count": 28,
     "metadata": {},
     "output_type": "execute_result"
    }
   ],
   "source": [
    "lista_composta"
   ]
  },
  {
   "cell_type": "code",
   "execution_count": 29,
   "id": "ada6096a-1252-401e-9369-2ebdbf9790e5",
   "metadata": {},
   "outputs": [
    {
     "data": {
      "text/plain": [
       "['a', 'b', 'c', 'z', 'e', 'y']"
      ]
     },
     "execution_count": 29,
     "metadata": {},
     "output_type": "execute_result"
    }
   ],
   "source": [
    "lista_composta[0]"
   ]
  },
  {
   "cell_type": "code",
   "execution_count": 30,
   "id": "e829a5d6-1e1d-489b-91f9-ee2ddfc468c1",
   "metadata": {},
   "outputs": [
    {
     "data": {
      "text/plain": [
       "[0, 1, 2, 3, 4, 5]"
      ]
     },
     "execution_count": 30,
     "metadata": {},
     "output_type": "execute_result"
    }
   ],
   "source": [
    "lista_composta[1]"
   ]
  },
  {
   "cell_type": "code",
   "execution_count": 31,
   "id": "a47bfcb2-5c8e-4ef6-8949-a4c387bb2f67",
   "metadata": {},
   "outputs": [
    {
     "data": {
      "text/plain": [
       "'b'"
      ]
     },
     "execution_count": 31,
     "metadata": {},
     "output_type": "execute_result"
    }
   ],
   "source": [
    "lista_composta[0][1]"
   ]
  },
  {
   "cell_type": "code",
   "execution_count": 37,
   "id": "7a1da487-2244-4558-912f-366cc5e960a4",
   "metadata": {},
   "outputs": [],
   "source": [
    "a = 0"
   ]
  },
  {
   "cell_type": "code",
   "execution_count": 38,
   "id": "9209c311-f8a5-4eae-a4d4-fe8bf7bb86d1",
   "metadata": {},
   "outputs": [
    {
     "data": {
      "text/plain": [
       "0"
      ]
     },
     "execution_count": 38,
     "metadata": {},
     "output_type": "execute_result"
    }
   ],
   "source": [
    "a"
   ]
  },
  {
   "cell_type": "code",
   "execution_count": 39,
   "id": "704f95ba-7293-4304-a150-8a3ef9176f07",
   "metadata": {},
   "outputs": [
    {
     "name": "stdout",
     "output_type": "stream",
     "text": [
      "0\n"
     ]
    }
   ],
   "source": [
    "print(a)"
   ]
  },
  {
   "cell_type": "code",
   "execution_count": 41,
   "id": "867f233e-294b-4230-abbe-9f0dc43c01a8",
   "metadata": {},
   "outputs": [
    {
     "name": "stdout",
     "output_type": "stream",
     "text": [
      "0\n",
      "1\n",
      "2\n",
      "3\n",
      "4\n",
      "5\n",
      "6\n",
      "7\n",
      "8\n",
      "9\n",
      "fim\n"
     ]
    }
   ],
   "source": [
    "a = 0\n",
    "while a < 10:\n",
    "    print(a)\n",
    "    a = a + 1\n",
    "print('fim')"
   ]
  },
  {
   "cell_type": "code",
   "execution_count": 42,
   "id": "ade4675d-3a23-4b8a-aacc-70c543f15424",
   "metadata": {},
   "outputs": [],
   "source": [
    "fibonacci = [0, 1, 1, 2, 3, 5, 8, 13, 21]"
   ]
  },
  {
   "cell_type": "code",
   "execution_count": 1,
   "id": "9b271a58-5d56-4606-9ecd-0c64a20098fd",
   "metadata": {},
   "outputs": [
    {
     "name": "stdout",
     "output_type": "stream",
     "text": [
      "0\n",
      "1\n",
      "1\n",
      "2\n",
      "3\n",
      "5\n",
      "8\n",
      "13\n",
      "21\n",
      "34\n",
      "55\n",
      "89\n",
      "144\n",
      "fim\n"
     ]
    }
   ],
   "source": [
    "a = 0\n",
    "b = 1\n",
    "c = a + b\n",
    "while a < 200:\n",
    "    print(a)\n",
    "    c = a + b\n",
    "    a = b\n",
    "    b = c\n",
    "print('fim')"
   ]
  },
  {
   "cell_type": "code",
   "execution_count": null,
   "id": "43d48427-6cfd-429f-8f27-15da01574d3f",
   "metadata": {},
   "outputs": [],
   "source": []
  }
 ],
 "metadata": {
  "kernelspec": {
   "display_name": "Python 3 (ipykernel)",
   "language": "python",
   "name": "python3"
  },
  "language_info": {
   "codemirror_mode": {
    "name": "ipython",
    "version": 3
   },
   "file_extension": ".py",
   "mimetype": "text/x-python",
   "name": "python",
   "nbconvert_exporter": "python",
   "pygments_lexer": "ipython3",
   "version": "3.10.7"
  },
  "vscode": {
   "interpreter": {
    "hash": "c3d15393239b8336ab5c3ca8b3aa34b20bee6f478ffc84dff634ebf248e9ed10"
   }
  }
 },
 "nbformat": 4,
 "nbformat_minor": 5
}
