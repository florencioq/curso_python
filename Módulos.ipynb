{
 "cells": [
  {
   "cell_type": "markdown",
   "id": "4ca67623-bfe9-4219-9fae-1c025514f792",
   "metadata": {},
   "source": [
    "# Módulos"
   ]
  },
  {
   "cell_type": "code",
   "execution_count": 1,
   "id": "0efa21c0-c2a7-42ae-88d0-9e320e0f4d69",
   "metadata": {},
   "outputs": [],
   "source": [
    "import nossa_lib"
   ]
  },
  {
   "cell_type": "code",
   "execution_count": 2,
   "id": "39bc0f55-d0e1-4f1c-85b3-80065fb97419",
   "metadata": {},
   "outputs": [
    {
     "name": "stdout",
     "output_type": "stream",
     "text": [
      "Anotações {'n': <class 'int'>, 'return': <class 'int'>}\n",
      "id n 2914913813008\n",
      "id soma 2914913814448\n"
     ]
    },
    {
     "data": {
      "text/plain": [
       "55"
      ]
     },
     "execution_count": 2,
     "metadata": {},
     "output_type": "execute_result"
    }
   ],
   "source": [
    "nossa_lib.soma_ate(10)"
   ]
  },
  {
   "cell_type": "code",
   "execution_count": null,
   "id": "35ee3521",
   "metadata": {},
   "outputs": [],
   "source": [
    "nossa_lib.fib(10)"
   ]
  },
  {
   "cell_type": "code",
   "execution_count": null,
   "id": "1d4007a4-008b-4869-8469-7dd1d9bb5a7f",
   "metadata": {},
   "outputs": [],
   "source": [
    "from nossa_lib import soma_ate"
   ]
  },
  {
   "cell_type": "code",
   "execution_count": null,
   "id": "ec9d0b70-13f9-4bc1-9172-d969c54f5026",
   "metadata": {},
   "outputs": [],
   "source": [
    "soma_ate(8)"
   ]
  },
  {
   "cell_type": "code",
   "execution_count": null,
   "id": "15e9bc80-ee3d-4b34-8ca1-dd6a9476dcbc",
   "metadata": {},
   "outputs": [],
   "source": [
    "import nossa_lib as nl"
   ]
  },
  {
   "cell_type": "code",
   "execution_count": null,
   "id": "fbbf6243-3577-47b7-9f28-35366221a9be",
   "metadata": {},
   "outputs": [],
   "source": [
    "nl.soma_ate(5)"
   ]
  },
  {
   "cell_type": "code",
   "execution_count": null,
   "id": "6cf9b40a-ec2f-495b-89af-7257e5c8f522",
   "metadata": {},
   "outputs": [],
   "source": []
  }
 ],
 "metadata": {
  "kernelspec": {
   "display_name": "Python 3 (ipykernel)",
   "language": "python",
   "name": "python3"
  },
  "language_info": {
   "codemirror_mode": {
    "name": "ipython",
    "version": 3
   },
   "file_extension": ".py",
   "mimetype": "text/x-python",
   "name": "python",
   "nbconvert_exporter": "python",
   "pygments_lexer": "ipython3",
   "version": "3.10.7"
  },
  "vscode": {
   "interpreter": {
    "hash": "c3d15393239b8336ab5c3ca8b3aa34b20bee6f478ffc84dff634ebf248e9ed10"
   }
  }
 },
 "nbformat": 4,
 "nbformat_minor": 5
}
