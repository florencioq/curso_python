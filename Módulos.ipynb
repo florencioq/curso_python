{
 "cells": [
  {
   "cell_type": "markdown",
   "id": "4ca67623-bfe9-4219-9fae-1c025514f792",
   "metadata": {},
   "source": [
    "# Módulos"
   ]
  },
  {
   "cell_type": "code",
   "execution_count": null,
   "id": "0efa21c0-c2a7-42ae-88d0-9e320e0f4d69",
   "metadata": {},
   "outputs": [],
   "source": [
    "import nossa_lib"
   ]
  },
  {
   "cell_type": "code",
   "execution_count": null,
   "id": "39bc0f55-d0e1-4f1c-85b3-80065fb97419",
   "metadata": {},
   "outputs": [],
   "source": [
    "nossa_lib.soma_ate(10)"
   ]
  },
  {
   "cell_type": "code",
   "execution_count": null,
   "id": "35ee3521",
   "metadata": {},
   "outputs": [],
   "source": [
    "nossa_lib.fib(10)"
   ]
  },
  {
   "cell_type": "code",
   "execution_count": null,
   "id": "1d4007a4-008b-4869-8469-7dd1d9bb5a7f",
   "metadata": {},
   "outputs": [],
   "source": [
    "from nossa_lib import soma_ate"
   ]
  },
  {
   "cell_type": "code",
   "execution_count": null,
   "id": "ec9d0b70-13f9-4bc1-9172-d969c54f5026",
   "metadata": {},
   "outputs": [],
   "source": [
    "soma_ate(8)"
   ]
  },
  {
   "cell_type": "code",
   "execution_count": null,
   "id": "15e9bc80-ee3d-4b34-8ca1-dd6a9476dcbc",
   "metadata": {},
   "outputs": [],
   "source": [
    "import nossa_lib as nl"
   ]
  },
  {
   "cell_type": "code",
   "execution_count": null,
   "id": "fbbf6243-3577-47b7-9f28-35366221a9be",
   "metadata": {},
   "outputs": [],
   "source": [
    "nl.soma_ate(5)"
   ]
  },
  {
   "cell_type": "markdown",
   "id": "6379b142",
   "metadata": {},
   "source": [
    "## Caminho de Busca para os Módulos"
   ]
  },
  {
   "cell_type": "markdown",
   "id": "e739a082-9547-4915-8067-71e52c918efa",
   "metadata": {},
   "source": [
    "### Módulos pré-instalados"
   ]
  },
  {
   "cell_type": "markdown",
   "id": "c1480d9a-57e5-4c94-a6fc-82dea2cd61a1",
   "metadata": {},
   "source": [
    "import sys\n",
    "print(sys.builtin_module_names)"
   ]
  },
  {
   "cell_type": "markdown",
   "id": "d7693948",
   "metadata": {},
   "source": []
  },
  {
   "cell_type": "markdown",
   "id": "e7828339-d4b9-4b3c-847c-9237da352191",
   "metadata": {},
   "source": [
    "### Caminho de Busca"
   ]
  },
  {
   "cell_type": "code",
   "execution_count": null,
   "id": "6c19a1f9-7737-4a52-94db-30d87e43ca44",
   "metadata": {},
   "outputs": [],
   "source": [
    "print(sys.path)\n",
    "for direc in sys.path:\n",
    "    print('-')\n",
    "    print(direc)"
   ]
  },
  {
   "cell_type": "markdown",
   "id": "ab524917-fd45-4327-b10b-26cafbc50ffa",
   "metadata": {},
   "source": [
    "### Como acrescentar um diretório ao caminho de busca"
   ]
  },
  {
   "cell_type": "code",
   "execution_count": null,
   "id": "026675f3-7b53-4191-ac55-c1ec8950c63f",
   "metadata": {},
   "outputs": [],
   "source": [
    "import sys\n",
    "sys.path.append('/ufs/guido/lib/python')"
   ]
  },
  {
   "cell_type": "markdown",
   "id": "c9edf096-dbfc-40b9-a22b-b6e2ab82c11e",
   "metadata": {},
   "source": [
    "### A função dir()"
   ]
  },
  {
   "cell_type": "code",
   "execution_count": null,
   "id": "9dd258f2-2102-4b90-8b5d-fc2044f665c4",
   "metadata": {},
   "outputs": [],
   "source": [
    "dir()"
   ]
  },
  {
   "cell_type": "code",
   "execution_count": null,
   "id": "77e72b81-7b9e-4ae1-b0c0-8a56c56ea682",
   "metadata": {},
   "outputs": [],
   "source": [
    "import nossa_lib"
   ]
  },
  {
   "cell_type": "code",
   "execution_count": null,
   "id": "21c687f4-1687-4293-b309-9e489b473b96",
   "metadata": {},
   "outputs": [],
   "source": [
    "dir(nossa_lib)"
   ]
  },
  {
   "cell_type": "markdown",
   "id": "b6a3b680-de90-4a77-9079-f666fd010a27",
   "metadata": {},
   "source": [
    "## Pacotes"
   ]
  },
  {
   "cell_type": "code",
   "execution_count": 2,
   "id": "021e201e-fca2-4896-870b-95bed2bf0470",
   "metadata": {},
   "outputs": [
    {
     "name": "stdout",
     "output_type": "stream",
     "text": [
      "importei matematica\n",
      "['In', 'Out', '_', '__', '___', '__builtin__', '__builtins__', '__doc__', '__loader__', '__name__', '__package__', '__spec__', '_dh', '_i', '_i1', '_i2', '_ih', '_ii', '_iii', '_oh', 'exit', 'get_ipython', 'matematica', 'open', 'quit']\n"
     ]
    }
   ],
   "source": [
    "import matematica\n",
    "print(dir())"
   ]
  },
  {
   "cell_type": "code",
   "execution_count": 26,
   "id": "0b8c1356-622a-472c-90f9-ebad35622dd1",
   "metadata": {},
   "outputs": [],
   "source": [
    "from matematica.soma_sub.lib_somar import somar\n",
    "from matematica.soma_sub import lib_somar"
   ]
  },
  {
   "cell_type": "code",
   "execution_count": 1,
   "id": "3577f29b-2a51-4c3b-a3f2-e762545d5e87",
   "metadata": {},
   "outputs": [
    {
     "name": "stdout",
     "output_type": "stream",
     "text": [
      "importei matematica\n"
     ]
    }
   ],
   "source": [
    "from matematica.soma_sub.lib_somar import *"
   ]
  },
  {
   "cell_type": "code",
   "execution_count": 2,
   "id": "053e57fa-6c3e-4e74-91ec-86aaf38ad078",
   "metadata": {},
   "outputs": [
    {
     "data": {
      "text/plain": [
       "3"
      ]
     },
     "execution_count": 2,
     "metadata": {},
     "output_type": "execute_result"
    }
   ],
   "source": [
    "somar(1,2)"
   ]
  },
  {
   "cell_type": "code",
   "execution_count": 10,
   "id": "8ff88a7e-0ad6-4db8-b45a-ffe4aa7d200f",
   "metadata": {},
   "outputs": [
    {
     "data": {
      "text/plain": [
       "['__annotations__',\n",
       " '__builtins__',\n",
       " '__call__',\n",
       " '__class__',\n",
       " '__closure__',\n",
       " '__code__',\n",
       " '__defaults__',\n",
       " '__delattr__',\n",
       " '__dict__',\n",
       " '__dir__',\n",
       " '__doc__',\n",
       " '__eq__',\n",
       " '__format__',\n",
       " '__ge__',\n",
       " '__get__',\n",
       " '__getattribute__',\n",
       " '__globals__',\n",
       " '__gt__',\n",
       " '__hash__',\n",
       " '__init__',\n",
       " '__init_subclass__',\n",
       " '__kwdefaults__',\n",
       " '__le__',\n",
       " '__lt__',\n",
       " '__module__',\n",
       " '__name__',\n",
       " '__ne__',\n",
       " '__new__',\n",
       " '__qualname__',\n",
       " '__reduce__',\n",
       " '__reduce_ex__',\n",
       " '__repr__',\n",
       " '__setattr__',\n",
       " '__sizeof__',\n",
       " '__str__',\n",
       " '__subclasshook__']"
      ]
     },
     "execution_count": 10,
     "metadata": {},
     "output_type": "execute_result"
    }
   ],
   "source": [
    "dir()\n",
    "dir(matematica)\n",
    "dir(matematica.soma_sub)\n",
    "dir(matematica.soma_sub.lib_somar)\n",
    "dir(matematica.soma_sub.lib_somar.somar)"
   ]
  },
  {
   "cell_type": "code",
   "execution_count": 11,
   "id": "31864776-6632-444d-947f-a5b95a22da07",
   "metadata": {},
   "outputs": [
    {
     "data": {
      "text/plain": [
       "3"
      ]
     },
     "execution_count": 11,
     "metadata": {},
     "output_type": "execute_result"
    }
   ],
   "source": [
    "matematica.soma_sub.somar.somar(1,2)"
   ]
  },
  {
   "cell_type": "code",
   "execution_count": null,
   "id": "96325e46-70bf-489b-884b-183bc0942e33",
   "metadata": {},
   "outputs": [],
   "source": []
  }
 ],
 "metadata": {
  "kernelspec": {
   "display_name": "Python 3 (ipykernel)",
   "language": "python",
   "name": "python3"
  },
  "language_info": {
   "codemirror_mode": {
    "name": "ipython",
    "version": 3
   },
   "file_extension": ".py",
   "mimetype": "text/x-python",
   "name": "python",
   "nbconvert_exporter": "python",
   "pygments_lexer": "ipython3",
   "version": "3.10.6"
  },
  "vscode": {
   "interpreter": {
    "hash": "47101a6f7e6e3815408fca523c577877cd2d8021827ae66052ace7384bef3edb"
   }
  }
 },
 "nbformat": 4,
 "nbformat_minor": 5
}
