{
 "cells": [
  {
   "cell_type": "markdown",
   "id": "4ca67623-bfe9-4219-9fae-1c025514f792",
   "metadata": {},
   "source": [
    "# Módulos"
   ]
  },
  {
   "cell_type": "code",
   "execution_count": null,
   "id": "0efa21c0-c2a7-42ae-88d0-9e320e0f4d69",
   "metadata": {},
   "outputs": [],
   "source": [
    "import nossa_lib"
   ]
  },
  {
   "cell_type": "code",
   "execution_count": null,
   "id": "39bc0f55-d0e1-4f1c-85b3-80065fb97419",
   "metadata": {},
   "outputs": [],
   "source": [
    "nossa_lib.soma_ate(10)"
   ]
  },
  {
   "cell_type": "code",
   "execution_count": null,
   "id": "35ee3521",
   "metadata": {},
   "outputs": [],
   "source": [
    "nossa_lib.fib(10)"
   ]
  },
  {
   "cell_type": "code",
   "execution_count": null,
   "id": "1d4007a4-008b-4869-8469-7dd1d9bb5a7f",
   "metadata": {},
   "outputs": [],
   "source": [
    "from nossa_lib import soma_ate"
   ]
  },
  {
   "cell_type": "code",
   "execution_count": null,
   "id": "ec9d0b70-13f9-4bc1-9172-d969c54f5026",
   "metadata": {},
   "outputs": [],
   "source": [
    "soma_ate(8)"
   ]
  },
  {
   "cell_type": "code",
   "execution_count": null,
   "id": "15e9bc80-ee3d-4b34-8ca1-dd6a9476dcbc",
   "metadata": {},
   "outputs": [],
   "source": [
    "import nossa_lib as nl"
   ]
  },
  {
   "cell_type": "code",
   "execution_count": null,
   "id": "fbbf6243-3577-47b7-9f28-35366221a9be",
   "metadata": {},
   "outputs": [],
   "source": [
    "nl.soma_ate(5)"
   ]
  },
  {
   "cell_type": "markdown",
   "id": "6379b142",
   "metadata": {},
   "source": [
    "## Caminho de Busca para os Módulos"
   ]
  },
  {
   "cell_type": "markdown",
   "id": "e739a082-9547-4915-8067-71e52c918efa",
   "metadata": {},
   "source": [
    "### Módulos pré-instalados"
   ]
  },
  {
   "cell_type": "code",
   "execution_count": null,
   "id": "deb86a47-32a9-48f3-ab5a-93ca581989d1",
   "metadata": {},
   "outputs": [],
   "source": [
    "import sys\n",
    "print(sys.builtin_module_names)"
   ]
  },
  {
   "cell_type": "markdown",
   "id": "e7828339-d4b9-4b3c-847c-9237da352191",
   "metadata": {},
   "source": [
    "### Caminho de Busca"
   ]
  },
  {
   "cell_type": "code",
   "execution_count": null,
   "id": "6c19a1f9-7737-4a52-94db-30d87e43ca44",
   "metadata": {},
   "outputs": [],
   "source": [
    "# print(sys.path)\n",
    "for direc in sys.path:\n",
    "    print('-')\n",
    "    print(direc)"
   ]
  },
  {
   "cell_type": "markdown",
   "id": "ab524917-fd45-4327-b10b-26cafbc50ffa",
   "metadata": {},
   "source": [
    "### Como acrescentar um diretório ao caminho de busca"
   ]
  },
  {
   "cell_type": "code",
   "execution_count": null,
   "id": "026675f3-7b53-4191-ac55-c1ec8950c63f",
   "metadata": {},
   "outputs": [],
   "source": [
    "import sys\n",
    "sys.path.append('/Users/jose/projetos')"
   ]
  },
  {
   "cell_type": "markdown",
   "id": "c9edf096-dbfc-40b9-a22b-b6e2ab82c11e",
   "metadata": {},
   "source": [
    "### A função dir()"
   ]
  },
  {
   "cell_type": "code",
   "execution_count": null,
   "id": "9dd258f2-2102-4b90-8b5d-fc2044f665c4",
   "metadata": {},
   "outputs": [],
   "source": [
    "dir()"
   ]
  },
  {
   "cell_type": "code",
   "execution_count": null,
   "id": "77e72b81-7b9e-4ae1-b0c0-8a56c56ea682",
   "metadata": {},
   "outputs": [],
   "source": [
    "import nossa_lib"
   ]
  },
  {
   "cell_type": "code",
   "execution_count": 12,
   "id": "21c687f4-1687-4293-b309-9e489b473b96",
   "metadata": {},
   "outputs": [
    {
     "data": {
      "text/plain": [
       "['__builtins__',\n",
       " '__cached__',\n",
       " '__doc__',\n",
       " '__file__',\n",
       " '__loader__',\n",
       " '__name__',\n",
       " '__package__',\n",
       " '__spec__',\n",
       " 'fib',\n",
       " 'soma_ate']"
      ]
     },
     "execution_count": 12,
     "metadata": {},
     "output_type": "execute_result"
    }
   ],
   "source": [
    "dir(nossa_lib)"
   ]
  },
  {
   "cell_type": "code",
   "execution_count": 13,
   "id": "6c202fcb-4d4b-45f5-b933-c416da85215f",
   "metadata": {},
   "outputs": [
    {
     "data": {
      "text/plain": [
       "'nossa_lib'"
      ]
     },
     "execution_count": 13,
     "metadata": {},
     "output_type": "execute_result"
    }
   ],
   "source": [
    "nossa_lib.__name__"
   ]
  },
  {
   "cell_type": "markdown",
   "id": "b6a3b680-de90-4a77-9079-f666fd010a27",
   "metadata": {},
   "source": [
    "## Criando Pacotes"
   ]
  },
  {
   "cell_type": "code",
   "execution_count": 10,
   "id": "021e201e-fca2-4896-870b-95bed2bf0470",
   "metadata": {},
   "outputs": [],
   "source": [
    "import matematica\n",
    "import matematica.nossa_lib\n",
    "from matematica import nossa_lib"
   ]
  },
  {
   "cell_type": "code",
   "execution_count": 12,
   "id": "b16ad49f-0bca-4a09-b978-1d56942f881a",
   "metadata": {},
   "outputs": [
    {
     "name": "stdout",
     "output_type": "stream",
     "text": [
      "Anotações {'n': <class 'int'>, 'return': <class 'list'>}\n",
      "[0, 1, 1, 2, 3, 5, 8]\n"
     ]
    },
    {
     "data": {
      "text/plain": [
       "[0, 1, 1, 2, 3, 5, 8]"
      ]
     },
     "execution_count": 12,
     "metadata": {},
     "output_type": "execute_result"
    }
   ],
   "source": [
    "matematica.nossa_lib.fib(10)"
   ]
  },
  {
   "cell_type": "code",
   "execution_count": 16,
   "id": "6e0f39b9-832f-4257-ac86-c01c6040bee1",
   "metadata": {},
   "outputs": [
    {
     "data": {
      "text/plain": [
       "['__builtins__',\n",
       " '__cached__',\n",
       " '__doc__',\n",
       " '__file__',\n",
       " '__loader__',\n",
       " '__name__',\n",
       " '__package__',\n",
       " '__spec__',\n",
       " 'fib',\n",
       " 'soma_ate']"
      ]
     },
     "execution_count": 16,
     "metadata": {},
     "output_type": "execute_result"
    }
   ],
   "source": [
    "dir(matematica.nossa_lib)"
   ]
  },
  {
   "cell_type": "code",
   "execution_count": 5,
   "id": "0b8c1356-622a-472c-90f9-ebad35622dd1",
   "metadata": {},
   "outputs": [],
   "source": [
    "# import matematica.soma_sub.lib_somar\n",
    "from matematica.soma_sub.lib_somar import somar as libr_somar"
   ]
  },
  {
   "cell_type": "code",
   "execution_count": 2,
   "id": "d40f16a8-e7f7-41cd-875a-e0763bdc15aa",
   "metadata": {},
   "outputs": [
    {
     "ename": "NameError",
     "evalue": "name 'matematica' is not defined",
     "output_type": "error",
     "traceback": [
      "\u001b[0;31m---------------------------------------------------------------------------\u001b[0m",
      "\u001b[0;31mNameError\u001b[0m                                 Traceback (most recent call last)",
      "Cell \u001b[0;32mIn [2], line 1\u001b[0m\n\u001b[0;32m----> 1\u001b[0m \u001b[38;5;28mdir\u001b[39m(\u001b[43mmatematica\u001b[49m\u001b[38;5;241m.\u001b[39msoma_sub\u001b[38;5;241m.\u001b[39mlib_somar)\n",
      "\u001b[0;31mNameError\u001b[0m: name 'matematica' is not defined"
     ]
    }
   ],
   "source": [
    "dir(matematica.soma_sub.lib_somar)"
   ]
  },
  {
   "cell_type": "code",
   "execution_count": 6,
   "id": "298c33a9-bc29-402f-b00b-c3c980127745",
   "metadata": {},
   "outputs": [
    {
     "data": {
      "text/plain": [
       "3"
      ]
     },
     "execution_count": 6,
     "metadata": {},
     "output_type": "execute_result"
    }
   ],
   "source": [
    "libr_somar(1,2)"
   ]
  },
  {
   "cell_type": "code",
   "execution_count": 2,
   "id": "3577f29b-2a51-4c3b-a3f2-e762545d5e87",
   "metadata": {},
   "outputs": [],
   "source": [
    "from matematica.soma_sub.lib_somar import *"
   ]
  },
  {
   "cell_type": "code",
   "execution_count": 3,
   "id": "053e57fa-6c3e-4e74-91ec-86aaf38ad078",
   "metadata": {},
   "outputs": [
    {
     "data": {
      "text/plain": [
       "3"
      ]
     },
     "execution_count": 3,
     "metadata": {},
     "output_type": "execute_result"
    }
   ],
   "source": [
    "somar(1,2)"
   ]
  },
  {
   "cell_type": "code",
   "execution_count": 1,
   "id": "8ff88a7e-0ad6-4db8-b45a-ffe4aa7d200f",
   "metadata": {},
   "outputs": [
    {
     "name": "stdout",
     "output_type": "stream",
     "text": [
      "importei o pacote matematica\n"
     ]
    }
   ],
   "source": [
    "#dir()\n",
    "import matematica.soma_sub.lib_somar\n",
    "#import matematica.multi_div\n",
    "#dir(matematica)\n",
    "dir(matematica.soma_sub.lib_somar)\n",
    "#dir(matematica.soma_sub.lib_somar)\n",
    "#dir(matematica.soma_sub.lib_somar.somar)\n",
    "from matematica.soma_sub.lib_somar import somar"
   ]
  },
  {
   "cell_type": "code",
   "execution_count": 3,
   "id": "31864776-6632-444d-947f-a5b95a22da07",
   "metadata": {},
   "outputs": [
    {
     "data": {
      "text/plain": [
       "3"
      ]
     },
     "execution_count": 3,
     "metadata": {},
     "output_type": "execute_result"
    }
   ],
   "source": [
    "matematica.soma_sub.lib_somar.somar(1,2)"
   ]
  },
  {
   "cell_type": "code",
   "execution_count": 2,
   "id": "96325e46-70bf-489b-884b-183bc0942e33",
   "metadata": {},
   "outputs": [
    {
     "data": {
      "text/plain": [
       "4"
      ]
     },
     "execution_count": 2,
     "metadata": {},
     "output_type": "execute_result"
    }
   ],
   "source": [
    "somar(1,3)"
   ]
  },
  {
   "cell_type": "code",
   "execution_count": null,
   "id": "2351e7ce-4ae1-46ee-87fd-16887573f930",
   "metadata": {},
   "outputs": [],
   "source": []
  }
 ],
 "metadata": {
  "kernelspec": {
   "display_name": "venv",
   "language": "python",
   "name": "python3"
  },
  "language_info": {
   "codemirror_mode": {
    "name": "ipython",
    "version": 3
   },
   "file_extension": ".py",
   "mimetype": "text/x-python",
   "name": "python",
   "nbconvert_exporter": "python",
   "pygments_lexer": "ipython3",
   "version": "3.10.7 (tags/v3.10.7:6cc6b13, Sep  5 2022, 14:08:36) [MSC v.1933 64 bit (AMD64)]"
  },
  "vscode": {
   "interpreter": {
    "hash": "c3d15393239b8336ab5c3ca8b3aa34b20bee6f478ffc84dff634ebf248e9ed10"
   }
  }
 },
 "nbformat": 4,
 "nbformat_minor": 5
}
