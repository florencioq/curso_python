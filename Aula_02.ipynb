{
 "cells": [
  {
   "cell_type": "code",
   "execution_count": null,
   "id": "b7aae951",
   "metadata": {},
   "outputs": [],
   "source": [
    "# break e continue, else"
   ]
  },
  {
   "cell_type": "code",
   "execution_count": 57,
   "id": "cb8ff22e",
   "metadata": {},
   "outputs": [
    {
     "name": "stdout",
     "output_type": "stream",
     "text": [
      "0\n",
      "1\n",
      "2\n",
      "3\n",
      "4\n",
      "5\n",
      "6\n",
      "7\n",
      "fim\n"
     ]
    }
   ],
   "source": [
    "for i in range(100):\n",
    "    print(i)\n",
    "    if i == 7:\n",
    "        break\n",
    "print('fim')"
   ]
  },
  {
   "cell_type": "code",
   "execution_count": 61,
   "id": "daef2971",
   "metadata": {},
   "outputs": [
    {
     "name": "stdout",
     "output_type": "stream",
     "text": [
      "0\n",
      "q 0\n",
      "1\n",
      "q 1\n",
      "2\n",
      "3\n",
      "q 9\n",
      "4\n",
      "q 16\n"
     ]
    }
   ],
   "source": [
    "for i in range(5):\n",
    "    print(i)\n",
    "    if i == 2:\n",
    "        continue\n",
    "    print('q', i ** 2)"
   ]
  },
  {
   "cell_type": "code",
   "execution_count": 81,
   "id": "c7296070",
   "metadata": {},
   "outputs": [
    {
     "name": "stdout",
     "output_type": "stream",
     "text": [
      "2 => PRIMO!\n",
      "3 => 2 r 1 ; PRIMO!\n",
      "4 => 2 r 0 ; \n",
      "5 => 2 r 1 ; 3 r 2 ; 4 r 1 ; PRIMO!\n",
      "6 => 2 r 0 ; \n",
      "7 => 2 r 1 ; 3 r 1 ; 4 r 3 ; 5 r 2 ; 6 r 1 ; PRIMO!\n",
      "8 => 2 r 0 ; \n",
      "9 => 2 r 1 ; 3 r 0 ; \n",
      "10 => 2 r 0 ; \n"
     ]
    }
   ],
   "source": [
    "# Encontrar números primos até 10\n",
    "primos = []\n",
    "não_primos = []\n",
    "for i in range(2, 11):\n",
    "    print(i, '=> ', end=\"\")\n",
    "    for n in range(2, i):\n",
    "        print(n, 'r', i % n, '; ', end=\"\")\n",
    "        if i % n == 0:\n",
    "            não_primos.append(i)\n",
    "            break\n",
    "    else:\n",
    "        print('PRIMO!', end=\"\")\n",
    "    print('')\n",
    "        "
   ]
  },
  {
   "cell_type": "code",
   "execution_count": null,
   "id": "980b63f0",
   "metadata": {},
   "outputs": [],
   "source": []
  }
 ],
 "metadata": {
  "kernelspec": {
   "display_name": "Python 3 (ipykernel)",
   "language": "python",
   "name": "python3"
  },
  "language_info": {
   "codemirror_mode": {
    "name": "ipython",
    "version": 3
   },
   "file_extension": ".py",
   "mimetype": "text/x-python",
   "name": "python",
   "nbconvert_exporter": "python",
   "pygments_lexer": "ipython3",
   "version": "3.10.6"
  }
 },
 "nbformat": 4,
 "nbformat_minor": 5
}
