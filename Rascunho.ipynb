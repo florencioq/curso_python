{
 "cells": [
  {
   "cell_type": "code",
   "execution_count": null,
   "id": "e99bba70-1bb6-43b4-bf24-ba181563d0fc",
   "metadata": {},
   "outputs": [],
   "source": [
    "def print_parametros(\n",
    "    *posicionais,\n",
    "    **nomeados,\n",
    "):\n",
    "    \"\"\"Imprime parâmetros\"\"\"\n",
    "    print(\"posicionais=\", posicionais)\n",
    "    print(\"nomeados=\", nomeados)\n",
    "    return None\n",
    "\n",
    "\n",
    "print_parametros(\"Z_\", 5, 3, \"2\", 3, y=5, dia=\"amanhã\")\n",
    "print_parametros()"
   ]
  },
  {
   "cell_type": "code",
   "execution_count": 1,
   "id": "7cf3b49b-0b5b-4c37-a369-27b2b5409f28",
   "metadata": {},
   "outputs": [
    {
     "name": "stdout",
     "output_type": "stream",
     "text": [
      "1 Z_Z_Z_Z_Z_\n",
      "2 Z_Z_Z_Z_Z_\n",
      "3 Z_Z_Z_Z_Z_\n",
      "4 Z_Z_Z_Z_Z_\n",
      "5 Z_Z_Z_Z_Z_\n",
      "6 Z_Z_Z_Z_Z_\n"
     ]
    }
   ],
   "source": [
    "def print_palavra(\n",
    "    palavra,\n",
    "    /,\n",
    "    x=3,\n",
    "    *,\n",
    "    y=4,\n",
    "    **nomeados,\n",
    "):\n",
    "    \"\"\"Imprime um retângulo de palavras\"\"\"\n",
    "    for i in range(y):\n",
    "        print(i + 1, x * palavra)\n",
    "    return None\n",
    "\n",
    "\n",
    "print_palavra(\"Z_\", x=5, y=5)\n",
    "print()\n",
    "param_posicionais = [\"Z_\"]\n",
    "param_nomeados = {\"x\": 5, \"y\": 6}\n",
    "print_palavra(*param_posicionais1, **param_nomeados1)"
   ]
  },
  {
   "cell_type": "code",
   "execution_count": null,
   "id": "cbf94d84-71b7-42fb-831c-31685eb1aa99",
   "metadata": {},
   "outputs": [],
   "source": []
  }
 ],
 "metadata": {
  "kernelspec": {
   "display_name": "Python 3 (ipykernel)",
   "language": "python",
   "name": "python3"
  },
  "language_info": {
   "codemirror_mode": {
    "name": "ipython",
    "version": 3
   },
   "file_extension": ".py",
   "mimetype": "text/x-python",
   "name": "python",
   "nbconvert_exporter": "python",
   "pygments_lexer": "ipython3",
   "version": "3.10.7"
  }
 },
 "nbformat": 4,
 "nbformat_minor": 5
}
