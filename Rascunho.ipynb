{
 "cells": [
  {
   "cell_type": "code",
   "execution_count": null,
   "id": "e99bba70-1bb6-43b4-bf24-ba181563d0fc",
   "metadata": {},
   "outputs": [],
   "source": [
    "def print_parametros(*posicionais, **nomeados, ):\n",
    "    \"\"\"Imprime parâmetros\"\"\"\n",
    "    print('posicionais=', posicionais)\n",
    "    print('nomeados=', nomeados)\n",
    "    return None\n",
    "\n",
    "print_parametros('Z_', 5, y=5, dia='amanhã')"
   ]
  },
  {
   "cell_type": "code",
   "execution_count": null,
   "id": "7cf3b49b-0b5b-4c37-a369-27b2b5409f28",
   "metadata": {},
   "outputs": [],
   "source": [
    "def print_palavra(palavra, /, x=3, *, y=4, **nomeados, ):\n",
    "    \"\"\"Imprime um retângulo de palavra\"\"\"\n",
    "    for i in range(y):\n",
    "        print(i+1, x * palavra)\n",
    "    return None\n",
    "        \n",
    "param_posicionais = ['Z_', 5]\n",
    "param_nomeados = {'y':6, 'dia':'amanhã'}\n",
    "print_palavra(*param_posicionais, **param_nomeados)"
   ]
  }
 ],
 "metadata": {
  "kernelspec": {
   "display_name": "Python 3 (ipykernel)",
   "language": "python",
   "name": "python3"
  },
  "language_info": {
   "codemirror_mode": {
    "name": "ipython",
    "version": 3
   },
   "file_extension": ".py",
   "mimetype": "text/x-python",
   "name": "python",
   "nbconvert_exporter": "python",
   "pygments_lexer": "ipython3",
   "version": "3.10.7"
  }
 },
 "nbformat": 4,
 "nbformat_minor": 5
}
