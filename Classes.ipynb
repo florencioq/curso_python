{
 "cells": [
  {
   "cell_type": "markdown",
   "id": "5ecadd11-d070-4cd1-8577-c91aa54a5134",
   "metadata": {},
   "source": [
    "## Classes: dados e funcionalidade juntos"
   ]
  },
  {
   "cell_type": "code",
   "execution_count": 25,
   "id": "15579ada-9892-4ce0-b013-c522ede6fb83",
   "metadata": {},
   "outputs": [],
   "source": [
    "class Bola:\n",
    "    tipo = 'futebol'\n",
    "    \n",
    "    def texto(self):\n",
    "        return self.tipo"
   ]
  },
  {
   "cell_type": "code",
   "execution_count": 29,
   "id": "c2dab3ea-1687-4b0a-a8ed-c4195bc04876",
   "metadata": {},
   "outputs": [
    {
     "name": "stdout",
     "output_type": "stream",
     "text": [
      "<__main__.Bola object at 0x0000027526A6B310>\n",
      "<bound method Bola.texto of <__main__.Bola object at 0x0000027526A6B310>>\n",
      "futebol\n",
      "gude\n"
     ]
    }
   ],
   "source": [
    "bolinha = Bola()\n",
    "print(bolinha)\n",
    "print(bolinha.texto)\n",
    "print(bolinha.texto())\n",
    "bolinha.tipo = 'gude'\n",
    "print(bolinha.texto())"
   ]
  },
  {
   "cell_type": "code",
   "execution_count": 8,
   "id": "d5148ed9-6349-4731-bde8-85f0f0d6d85d",
   "metadata": {},
   "outputs": [],
   "source": [
    "# Apenas dados\n",
    "class Humano:\n",
    "    def __init__(self, nome, data_nascimento, nome_mae):\n",
    "        self.nome = nome\n",
    "        self.data_nascimento = data_nascimento\n",
    "        self.nome_mae = nome_mae\n",
    "        "
   ]
  },
  {
   "cell_type": "code",
   "execution_count": 11,
   "id": "45d545ff-808f-40e7-8e8e-077bfb660e4e",
   "metadata": {},
   "outputs": [],
   "source": [
    "jose = Humano('Paulo Futuro', '15/01/2000', 'Maria Futuro') "
   ]
  },
  {
   "cell_type": "code",
   "execution_count": 12,
   "id": "f366536f-8500-46b0-ada9-f31b3a9a8623",
   "metadata": {},
   "outputs": [
    {
     "data": {
      "text/plain": [
       "<__main__.Humano at 0x275257181c0>"
      ]
     },
     "execution_count": 12,
     "metadata": {},
     "output_type": "execute_result"
    }
   ],
   "source": [
    "jose"
   ]
  },
  {
   "cell_type": "code",
   "execution_count": 13,
   "id": "bf74a13e-4580-4c1f-856d-7108b3fbf16c",
   "metadata": {},
   "outputs": [
    {
     "data": {
      "text/plain": [
       "'15/01/2000'"
      ]
     },
     "execution_count": 13,
     "metadata": {},
     "output_type": "execute_result"
    }
   ],
   "source": [
    "jose.data_nascimento"
   ]
  },
  {
   "cell_type": "code",
   "execution_count": 14,
   "id": "27461e92-27cc-442d-8d7b-2192484a5312",
   "metadata": {},
   "outputs": [],
   "source": [
    "jose.nome = 'Maria'"
   ]
  },
  {
   "cell_type": "code",
   "execution_count": 15,
   "id": "0b18de8e-cb2e-4372-8a6c-6fd915ba3514",
   "metadata": {},
   "outputs": [
    {
     "data": {
      "text/plain": [
       "'Maria'"
      ]
     },
     "execution_count": 15,
     "metadata": {},
     "output_type": "execute_result"
    }
   ],
   "source": [
    "jose.nome"
   ]
  },
  {
   "cell_type": "code",
   "execution_count": null,
   "id": "a96dc4f8-90f6-4845-8d43-9f36ba37ced4",
   "metadata": {},
   "outputs": [],
   "source": []
  }
 ],
 "metadata": {
  "kernelspec": {
   "display_name": "Python 3 (ipykernel)",
   "language": "python",
   "name": "python3"
  },
  "language_info": {
   "codemirror_mode": {
    "name": "ipython",
    "version": 3
   },
   "file_extension": ".py",
   "mimetype": "text/x-python",
   "name": "python",
   "nbconvert_exporter": "python",
   "pygments_lexer": "ipython3",
   "version": "3.10.5"
  }
 },
 "nbformat": 4,
 "nbformat_minor": 5
}
