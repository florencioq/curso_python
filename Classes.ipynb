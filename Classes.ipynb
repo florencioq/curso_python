{
 "cells": [
  {
   "cell_type": "markdown",
   "id": "5ecadd11-d070-4cd1-8577-c91aa54a5134",
   "metadata": {},
   "source": [
    "## Classes: dados e funcionalidade juntos\n"
   ]
  },
  {
   "cell_type": "code",
   "execution_count": null,
   "id": "15579ada-9892-4ce0-b013-c522ede6fb83",
   "metadata": {},
   "outputs": [],
   "source": [
    "class Bola:\n",
    "    \"\"\"Uma classe para bolas\"\"\"\n",
    "\n",
    "    tipo = \"futebol\"\n",
    "\n",
    "    def texto(self):\n",
    "        return self.tipo\n"
   ]
  },
  {
   "cell_type": "code",
   "execution_count": null,
   "id": "c2dab3ea-1687-4b0a-a8ed-c4195bc04876",
   "metadata": {},
   "outputs": [],
   "source": [
    "bolinha = Bola()\n",
    "print(1, bolinha)\n",
    "print(2, bolinha._tipo)\n",
    "print(3, bolinha.texto)\n",
    "print(4, bolinha.texto())\n",
    "bolinha.tipo = \"gude\"\n",
    "print(5, bolinha.texto())\n",
    "print(6, bolinha.__doc__)\n"
   ]
  },
  {
   "cell_type": "code",
   "execution_count": null,
   "id": "d5148ed9-6349-4731-bde8-85f0f0d6d85d",
   "metadata": {},
   "outputs": [],
   "source": [
    "# Apenas dados\n",
    "class Humano:\n",
    "    def __init__(self, nome, data_nascimento, nome_mae):\n",
    "        self.nome = nome\n",
    "        self.data_nascimento = data_nascimento\n",
    "        self.nome_mae = nome_mae\n",
    "        self.outros_dados = []\n"
   ]
  },
  {
   "cell_type": "code",
   "execution_count": null,
   "id": "45d545ff-808f-40e7-8e8e-077bfb660e4e",
   "metadata": {},
   "outputs": [],
   "source": [
    "jose = Humano(\"Paulo Futuro\", \"15/01/2000\", \"Maria Futuro\")\n"
   ]
  },
  {
   "cell_type": "code",
   "execution_count": null,
   "id": "f366536f-8500-46b0-ada9-f31b3a9a8623",
   "metadata": {},
   "outputs": [],
   "source": [
    "jose\n"
   ]
  },
  {
   "cell_type": "code",
   "execution_count": null,
   "id": "bf74a13e-4580-4c1f-856d-7108b3fbf16c",
   "metadata": {},
   "outputs": [],
   "source": [
    "jose.data_nascimento\n"
   ]
  },
  {
   "cell_type": "code",
   "execution_count": null,
   "id": "27461e92-27cc-442d-8d7b-2192484a5312",
   "metadata": {},
   "outputs": [],
   "source": [
    "jose.nome = \"Maria\"\n"
   ]
  },
  {
   "cell_type": "code",
   "execution_count": null,
   "id": "0b18de8e-cb2e-4372-8a6c-6fd915ba3514",
   "metadata": {},
   "outputs": [],
   "source": [
    "jose.nome\n"
   ]
  },
  {
   "cell_type": "code",
   "execution_count": null,
   "id": "c3814102-8203-4060-91b7-6c4a9b37e7fe",
   "metadata": {},
   "outputs": [],
   "source": [
    "paulo = Humano()\n"
   ]
  },
  {
   "cell_type": "markdown",
   "id": "ae5229a5-2ba3-4b27-9d6c-ecc299479f9c",
   "metadata": {},
   "source": [
    "### Criando atributos dinamicamente\n"
   ]
  },
  {
   "cell_type": "code",
   "execution_count": null,
   "id": "c7db9dbc-8530-45da-89d5-09391e6b6bbd",
   "metadata": {},
   "outputs": [],
   "source": [
    "maria = Humano(\"Maria Futuro\", \"19/03/1980\", \"Joana Futuro\")\n",
    "jose = Humano(\"Paulo Futuro\", \"15/01/2000\", \"Maria Futuro\")"
   ]
  },
  {
   "cell_type": "code",
   "execution_count": null,
   "id": "ad41fa73-5732-421f-8eed-60afb81a570e",
   "metadata": {},
   "outputs": [],
   "source": [
    "jose.cpf = \"423423423\"\n"
   ]
  },
  {
   "cell_type": "code",
   "execution_count": null,
   "id": "5f4add24-15b7-411c-9b61-11b4ab32a948",
   "metadata": {},
   "outputs": [],
   "source": [
    "vars(jose)\n"
   ]
  },
  {
   "cell_type": "code",
   "execution_count": null,
   "id": "d65fc73c-0663-4d59-94ef-5424c8d2fdb8",
   "metadata": {},
   "outputs": [],
   "source": [
    "vars(maria)\n"
   ]
  },
  {
   "cell_type": "code",
   "execution_count": null,
   "id": "ae38902f-3505-4d79-800e-309c92ea1f08",
   "metadata": {},
   "outputs": [],
   "source": [
    "type(maria)\n"
   ]
  },
  {
   "cell_type": "code",
   "execution_count": null,
   "id": "e99c11cd-8b0c-4a20-9e05-458248b07070",
   "metadata": {},
   "outputs": [],
   "source": [
    "type(jose)\n"
   ]
  },
  {
   "cell_type": "markdown",
   "id": "77602197-afd1-4903-90c7-30b7ad1c84d5",
   "metadata": {},
   "source": [
    "### Métodos\n"
   ]
  },
  {
   "cell_type": "code",
   "execution_count": null,
   "id": "1a7a0035-414d-4ae2-971f-39977d6338f4",
   "metadata": {},
   "outputs": [],
   "source": [
    "class Humano:\n",
    "    # propriedades da classe\n",
    "    numero_pernas = 2\n",
    "\n",
    "    def __init__(self, nome, data_nascimento, nome_mae):\n",
    "        # propriedades dos objetos\n",
    "        self.nome = nome\n",
    "        self.data_nascimento = data_nascimento\n",
    "        self.nome_mae = nome_mae\n",
    "        self.outros_dados = []\n",
    "\n",
    "    def identifica(self):\n",
    "        return {\n",
    "            \"nome\": self.nome,\n",
    "            \"data de nascimento\": self.data_nascimento,\n",
    "            \"nome da mãe\": self.nome_mae,\n",
    "        }\n"
   ]
  },
  {
   "cell_type": "code",
   "execution_count": null,
   "id": "d32f2d06-ab01-40b7-9ffe-1891d8047d85",
   "metadata": {},
   "outputs": [],
   "source": [
    "maria = Humano(\"Maria Futuro\", \"19/03/1980\", \"Joana Futuro\")\n",
    "jose = Humano(\"Paulo Futuro\", \"15/01/2000\", \"Maria Futuro\")"
   ]
  },
  {
   "cell_type": "code",
   "execution_count": null,
   "id": "52f312d5-3a37-4573-a23f-a6d143587d15",
   "metadata": {},
   "outputs": [],
   "source": [
    "print(maria.identifica())"
   ]
  },
  {
   "cell_type": "code",
   "execution_count": null,
   "id": "a451fbc0-1f05-4ac6-9662-2942f170039c",
   "metadata": {},
   "outputs": [],
   "source": [
    "jose.numero_pernas = 3"
   ]
  },
  {
   "cell_type": "code",
   "execution_count": null,
   "id": "20c4ed01-3d30-4964-b674-b4f8f7c5c305",
   "metadata": {},
   "outputs": [],
   "source": [
    "maria.numero_pernas "
   ]
  },
  {
   "cell_type": "code",
   "execution_count": null,
   "id": "0a761034-38b1-45db-9404-65863b7df623",
   "metadata": {},
   "outputs": [],
   "source": [
    "jose.numero_pernas"
   ]
  },
  {
   "cell_type": "code",
   "execution_count": null,
   "id": "0a58e212-6ca2-4b1b-88a1-8abf354a1b9d",
   "metadata": {},
   "outputs": [],
   "source": [
    "Humano.numero_pernas = 3"
   ]
  },
  {
   "cell_type": "code",
   "execution_count": null,
   "id": "35101b97-4774-4c47-b0a8-8c389b66a126",
   "metadata": {},
   "outputs": [],
   "source": [
    "Humano.numero_pernas"
   ]
  },
  {
   "attachments": {},
   "cell_type": "markdown",
   "id": "91e5c971-d243-4726-9526-96e321f8bd19",
   "metadata": {},
   "source": [
    "## Herança"
   ]
  },
  {
   "attachments": {},
   "cell_type": "markdown",
   "id": "0e43ff29",
   "metadata": {},
   "source": [
    "- Animais\n",
    "    - Peixes\n",
    "    - Anfíbios\n",
    "    - Répteis\n",
    "    - Aves\n",
    "    - Mamíferos\n",
    "        - Primata\n",
    "            - Homem\n",
    "            - Chinpanzé\n",
    "        - Carnívoro\n",
    "            - Cachorro\n",
    "            - Gato"
   ]
  },
  {
   "cell_type": "markdown",
   "id": "33d59b2d",
   "metadata": {},
   "source": []
  }
 ],
 "metadata": {
  "kernelspec": {
   "display_name": "Python 3 (ipykernel)",
   "language": "python",
   "name": "python3"
  },
  "language_info": {
   "codemirror_mode": {
    "name": "ipython",
    "version": 3
   },
   "file_extension": ".py",
   "mimetype": "text/x-python",
   "name": "python",
   "nbconvert_exporter": "python",
   "pygments_lexer": "ipython3",
   "version": "3.10.6"
  },
  "vscode": {
   "interpreter": {
    "hash": "47101a6f7e6e3815408fca523c577877cd2d8021827ae66052ace7384bef3edb"
   }
  }
 },
 "nbformat": 4,
 "nbformat_minor": 5
}
