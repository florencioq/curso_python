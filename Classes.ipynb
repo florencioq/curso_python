{
 "cells": [
  {
   "cell_type": "markdown",
   "id": "5ecadd11-d070-4cd1-8577-c91aa54a5134",
   "metadata": {},
   "source": [
    "## Classes: dados e funcionalidade juntos\n"
   ]
  },
  {
   "cell_type": "code",
   "execution_count": 11,
   "id": "d5148ed9-6349-4731-bde8-85f0f0d6d85d",
   "metadata": {},
   "outputs": [],
   "source": [
    "# Apenas dados\n",
    "class Humano:\n",
    "    def __init__(self, nome, data_nascimento, nome_mae):\n",
    "        self.nome = nome\n",
    "        self.data_nascimento = data_nascimento\n",
    "        self.nome_mae = nome_mae\n",
    "        self.outros_dados = []\n"
   ]
  },
  {
   "cell_type": "code",
   "execution_count": 12,
   "id": "45d545ff-808f-40e7-8e8e-077bfb660e4e",
   "metadata": {},
   "outputs": [],
   "source": [
    "jose = Humano(\"Jose Futuro\", \"15/01/2000\", \"Maria Futuro\")\n"
   ]
  },
  {
   "cell_type": "code",
   "execution_count": 13,
   "id": "f366536f-8500-46b0-ada9-f31b3a9a8623",
   "metadata": {},
   "outputs": [
    {
     "data": {
      "text/plain": [
       "<__main__.Humano at 0x22e81322aa0>"
      ]
     },
     "execution_count": 13,
     "metadata": {},
     "output_type": "execute_result"
    }
   ],
   "source": [
    "jose\n"
   ]
  },
  {
   "cell_type": "code",
   "execution_count": 14,
   "id": "bf74a13e-4580-4c1f-856d-7108b3fbf16c",
   "metadata": {},
   "outputs": [
    {
     "data": {
      "text/plain": [
       "'15/01/2000'"
      ]
     },
     "execution_count": 14,
     "metadata": {},
     "output_type": "execute_result"
    }
   ],
   "source": [
    "jose.data_nascimento\n"
   ]
  },
  {
   "cell_type": "code",
   "execution_count": 15,
   "id": "27461e92-27cc-442d-8d7b-2192484a5312",
   "metadata": {},
   "outputs": [],
   "source": [
    "jose.nome = \"Maria\"\n"
   ]
  },
  {
   "cell_type": "code",
   "execution_count": 16,
   "id": "0b18de8e-cb2e-4372-8a6c-6fd915ba3514",
   "metadata": {},
   "outputs": [
    {
     "data": {
      "text/plain": [
       "'Maria'"
      ]
     },
     "execution_count": 16,
     "metadata": {},
     "output_type": "execute_result"
    }
   ],
   "source": [
    "jose.nome\n"
   ]
  },
  {
   "cell_type": "code",
   "execution_count": 18,
   "id": "c3814102-8203-4060-91b7-6c4a9b37e7fe",
   "metadata": {},
   "outputs": [],
   "source": [
    "paulo = Humano('Paulo', '01/01/1980', 'Joana')\n"
   ]
  },
  {
   "cell_type": "code",
   "execution_count": 19,
   "id": "11740605-9836-441f-82e1-63d49f642fe1",
   "metadata": {},
   "outputs": [
    {
     "data": {
      "text/plain": [
       "<__main__.Humano at 0x22e813e81f0>"
      ]
     },
     "execution_count": 19,
     "metadata": {},
     "output_type": "execute_result"
    }
   ],
   "source": [
    "paulo"
   ]
  },
  {
   "cell_type": "markdown",
   "id": "ae5229a5-2ba3-4b27-9d6c-ecc299479f9c",
   "metadata": {},
   "source": [
    "### Criando atributos dinamicamente\n"
   ]
  },
  {
   "cell_type": "code",
   "execution_count": 20,
   "id": "c7db9dbc-8530-45da-89d5-09391e6b6bbd",
   "metadata": {},
   "outputs": [],
   "source": [
    "maria = Humano(\"Maria Futuro\", \"19/03/1980\", \"Joana Futuro\")\n",
    "jose = Humano(\"Paulo Futuro\", \"15/01/2000\", \"Maria Futuro\")"
   ]
  },
  {
   "cell_type": "code",
   "execution_count": 21,
   "id": "ad41fa73-5732-421f-8eed-60afb81a570e",
   "metadata": {},
   "outputs": [],
   "source": [
    "jose.cpf = \"423423423\"\n"
   ]
  },
  {
   "cell_type": "code",
   "execution_count": 22,
   "id": "5f4add24-15b7-411c-9b61-11b4ab32a948",
   "metadata": {},
   "outputs": [
    {
     "data": {
      "text/plain": [
       "{'nome': 'Paulo Futuro',\n",
       " 'data_nascimento': '15/01/2000',\n",
       " 'nome_mae': 'Maria Futuro',\n",
       " 'outros_dados': [],\n",
       " 'cpf': '423423423'}"
      ]
     },
     "execution_count": 22,
     "metadata": {},
     "output_type": "execute_result"
    }
   ],
   "source": [
    "vars(jose)\n"
   ]
  },
  {
   "cell_type": "code",
   "execution_count": 23,
   "id": "d65fc73c-0663-4d59-94ef-5424c8d2fdb8",
   "metadata": {},
   "outputs": [
    {
     "data": {
      "text/plain": [
       "{'nome': 'Maria Futuro',\n",
       " 'data_nascimento': '19/03/1980',\n",
       " 'nome_mae': 'Joana Futuro',\n",
       " 'outros_dados': []}"
      ]
     },
     "execution_count": 23,
     "metadata": {},
     "output_type": "execute_result"
    }
   ],
   "source": [
    "vars(maria)\n"
   ]
  },
  {
   "cell_type": "code",
   "execution_count": 24,
   "id": "ae38902f-3505-4d79-800e-309c92ea1f08",
   "metadata": {},
   "outputs": [
    {
     "data": {
      "text/plain": [
       "__main__.Humano"
      ]
     },
     "execution_count": 24,
     "metadata": {},
     "output_type": "execute_result"
    }
   ],
   "source": [
    "type(maria)\n"
   ]
  },
  {
   "cell_type": "code",
   "execution_count": 25,
   "id": "e99c11cd-8b0c-4a20-9e05-458248b07070",
   "metadata": {},
   "outputs": [
    {
     "data": {
      "text/plain": [
       "__main__.Humano"
      ]
     },
     "execution_count": 25,
     "metadata": {},
     "output_type": "execute_result"
    }
   ],
   "source": [
    "type(jose)\n"
   ]
  },
  {
   "cell_type": "markdown",
   "id": "77602197-afd1-4903-90c7-30b7ad1c84d5",
   "metadata": {},
   "source": [
    "### Métodos\n"
   ]
  },
  {
   "cell_type": "code",
   "execution_count": 28,
   "id": "1a7a0035-414d-4ae2-971f-39977d6338f4",
   "metadata": {},
   "outputs": [],
   "source": [
    "class Humano:\n",
    "    # propriedades da classe\n",
    "    numero_pernas = 2\n",
    "\n",
    "    def __init__(self, nome, data_nascimento, nome_mae):\n",
    "        # propriedades dos objetos\n",
    "        self.nome = nome\n",
    "        self.data_nascimento = data_nascimento\n",
    "        self.nome_mae = nome_mae\n",
    "        self.outros_dados = []\n",
    "\n",
    "    def identifica(self):\n",
    "        return {\n",
    "            \"nome\": self.nome,\n",
    "            \"data de nascimento\": self.data_nascimento,\n",
    "            \"nome da mãe\": self.nome_mae,\n",
    "        }\n"
   ]
  },
  {
   "cell_type": "code",
   "execution_count": 29,
   "id": "d32f2d06-ab01-40b7-9ffe-1891d8047d85",
   "metadata": {},
   "outputs": [],
   "source": [
    "maria = Humano(\"Maria Futuro\", \"19/03/1980\", \"Joana Futuro\")\n",
    "jose = Humano(\"Paulo Futuro\", \"15/01/2000\", \"Maria Futuro\")"
   ]
  },
  {
   "cell_type": "code",
   "execution_count": 30,
   "id": "52f312d5-3a37-4573-a23f-a6d143587d15",
   "metadata": {},
   "outputs": [
    {
     "name": "stdout",
     "output_type": "stream",
     "text": [
      "{'nome': 'Maria Futuro', 'data de nascimento': '19/03/1980', 'nome da mãe': 'Joana Futuro'}\n"
     ]
    }
   ],
   "source": [
    "print(maria.identifica())"
   ]
  },
  {
   "cell_type": "code",
   "execution_count": 31,
   "id": "e7cb6ea2-c9ba-475e-9777-c189bd7cb3c2",
   "metadata": {},
   "outputs": [
    {
     "data": {
      "text/plain": [
       "{'nome': 'Maria Futuro',\n",
       " 'data_nascimento': '19/03/1980',\n",
       " 'nome_mae': 'Joana Futuro',\n",
       " 'outros_dados': []}"
      ]
     },
     "execution_count": 31,
     "metadata": {},
     "output_type": "execute_result"
    }
   ],
   "source": [
    "vars(maria)"
   ]
  },
  {
   "cell_type": "code",
   "execution_count": 32,
   "id": "3609069d-eb15-40b6-a506-f5d95f65dd80",
   "metadata": {},
   "outputs": [
    {
     "data": {
      "text/plain": [
       "2"
      ]
     },
     "execution_count": 32,
     "metadata": {},
     "output_type": "execute_result"
    }
   ],
   "source": [
    "Humano.numero_pernas"
   ]
  },
  {
   "cell_type": "code",
   "execution_count": 33,
   "id": "85c30bbb-be5e-48e1-8d7d-bb4876ac35d4",
   "metadata": {},
   "outputs": [
    {
     "data": {
      "text/plain": [
       "2"
      ]
     },
     "execution_count": 33,
     "metadata": {},
     "output_type": "execute_result"
    }
   ],
   "source": [
    "maria.numero_pernas"
   ]
  },
  {
   "cell_type": "code",
   "execution_count": 34,
   "id": "a451fbc0-1f05-4ac6-9662-2942f170039c",
   "metadata": {},
   "outputs": [],
   "source": [
    "jose.numero_pernas = 3"
   ]
  },
  {
   "cell_type": "code",
   "execution_count": 37,
   "id": "bdae25e9-9bb3-4270-8429-0d97bfaa017e",
   "metadata": {},
   "outputs": [
    {
     "data": {
      "text/plain": [
       "{'nome': 'Paulo Futuro',\n",
       " 'data_nascimento': '15/01/2000',\n",
       " 'nome_mae': 'Maria Futuro',\n",
       " 'outros_dados': [],\n",
       " 'numero_pernas': 3}"
      ]
     },
     "execution_count": 37,
     "metadata": {},
     "output_type": "execute_result"
    }
   ],
   "source": [
    "vars(jose)"
   ]
  },
  {
   "cell_type": "code",
   "execution_count": 38,
   "id": "bf169b57-53eb-4e61-a2e8-20dad267a328",
   "metadata": {},
   "outputs": [
    {
     "data": {
      "text/plain": [
       "{'nome': 'Maria Futuro',\n",
       " 'data_nascimento': '19/03/1980',\n",
       " 'nome_mae': 'Joana Futuro',\n",
       " 'outros_dados': []}"
      ]
     },
     "execution_count": 38,
     "metadata": {},
     "output_type": "execute_result"
    }
   ],
   "source": [
    "vars(maria)"
   ]
  },
  {
   "cell_type": "code",
   "execution_count": 41,
   "id": "20c4ed01-3d30-4964-b674-b4f8f7c5c305",
   "metadata": {},
   "outputs": [
    {
     "data": {
      "text/plain": [
       "3"
      ]
     },
     "execution_count": 41,
     "metadata": {},
     "output_type": "execute_result"
    }
   ],
   "source": [
    "maria.numero_pernas "
   ]
  },
  {
   "cell_type": "code",
   "execution_count": 36,
   "id": "0a761034-38b1-45db-9404-65863b7df623",
   "metadata": {},
   "outputs": [
    {
     "data": {
      "text/plain": [
       "3"
      ]
     },
     "execution_count": 36,
     "metadata": {},
     "output_type": "execute_result"
    }
   ],
   "source": [
    "jose.numero_pernas"
   ]
  },
  {
   "cell_type": "code",
   "execution_count": 39,
   "id": "0a58e212-6ca2-4b1b-88a1-8abf354a1b9d",
   "metadata": {},
   "outputs": [],
   "source": [
    "Humano.numero_pernas = 3"
   ]
  },
  {
   "cell_type": "code",
   "execution_count": 40,
   "id": "35101b97-4774-4c47-b0a8-8c389b66a126",
   "metadata": {},
   "outputs": [
    {
     "data": {
      "text/plain": [
       "3"
      ]
     },
     "execution_count": 40,
     "metadata": {},
     "output_type": "execute_result"
    }
   ],
   "source": [
    "Humano.numero_pernas"
   ]
  },
  {
   "cell_type": "markdown",
   "id": "91e5c971-d243-4726-9526-96e321f8bd19",
   "metadata": {},
   "source": [
    "## Herança"
   ]
  },
  {
   "cell_type": "markdown",
   "id": "0e43ff29",
   "metadata": {},
   "source": [
    "- Animais\n",
    "    - Peixes\n",
    "    - Anfíbios\n",
    "    - Répteis\n",
    "    - Aves\n",
    "    - Mamíferos\n",
    "        - Primata\n",
    "            - Humano\n",
    "                - Masculino\n",
    "                - Feminino\n",
    "            - Chinpanzé\n",
    "        - Carnívoro\n",
    "            - Cachorro\n",
    "            - Gato"
   ]
  },
  {
   "cell_type": "code",
   "execution_count": 4,
   "id": "48c7104a-5dfc-409a-8375-35906295c552",
   "metadata": {},
   "outputs": [],
   "source": [
    "class Primata():\n",
    "    cerebro_grande = True\n",
    "    visao_estereoscopica = True\n",
    "  "
   ]
  },
  {
   "cell_type": "code",
   "execution_count": 19,
   "id": "dbe48216-070b-49fa-8fdf-1807986f348b",
   "metadata": {},
   "outputs": [],
   "source": [
    "class Humano(Primata):\n",
    "    # propriedades da classe\n",
    "    bipede = True\n",
    "\n",
    "    def __init__(self, nome, data_nascimento, nome_mae):\n",
    "        # propriedades dos objetos\n",
    "        self.nome = nome\n",
    "        self.data_nascimento = data_nascimento\n",
    "        self.nome_mae = nome_mae\n",
    "        self.outros_dados = []\n",
    "\n",
    "    def identifica(self):\n",
    "        return {\n",
    "            \"nome\": self.nome,\n",
    "            \"data de nascimento\": self.data_nascimento,\n",
    "            \"nome da mãe\": self.nome_mae,\n",
    "        }"
   ]
  },
  {
   "cell_type": "code",
   "execution_count": 20,
   "id": "3e37eedb-afea-4ed3-97c6-5615b304ecc0",
   "metadata": {},
   "outputs": [],
   "source": [
    "class Macaco(Primata):\n",
    "    # propriedades da classe\n",
    "    bipede = False\n",
    "\n",
    "    def __init__(self, nome, apelido):\n",
    "        # propriedades dos objetos\n",
    "        self.nome = nome\n",
    "        self.apelido = apelido\n",
    "        self.outros_dados = []\n",
    "\n",
    "    def identifica(self):\n",
    "        return {\n",
    "            \"nome\": self.nome,\n",
    "        }"
   ]
  },
  {
   "cell_type": "code",
   "execution_count": 21,
   "id": "eaa6237b",
   "metadata": {},
   "outputs": [],
   "source": [
    "maria = Humano(\"Maria Futuro\", \"19/03/1980\", \"Joana Futuro\")\n",
    "jose = Humano(\"Paulo Futuro\", \"15/01/2000\", \"Maria Futuro\")"
   ]
  },
  {
   "cell_type": "code",
   "execution_count": 22,
   "id": "40e66ac4",
   "metadata": {},
   "outputs": [
    {
     "data": {
      "text/plain": [
       "True"
      ]
     },
     "execution_count": 22,
     "metadata": {},
     "output_type": "execute_result"
    }
   ],
   "source": [
    "jose.bipede"
   ]
  },
  {
   "cell_type": "code",
   "execution_count": 23,
   "id": "190ee11e-4aae-480f-9a21-e8480632eb65",
   "metadata": {},
   "outputs": [
    {
     "data": {
      "text/plain": [
       "True"
      ]
     },
     "execution_count": 23,
     "metadata": {},
     "output_type": "execute_result"
    }
   ],
   "source": [
    "jose.cerebro_grande"
   ]
  },
  {
   "cell_type": "code",
   "execution_count": 24,
   "id": "eb54bb33",
   "metadata": {},
   "outputs": [],
   "source": [
    "jose.bipede = 'Olá'"
   ]
  },
  {
   "cell_type": "code",
   "execution_count": 25,
   "id": "5093718c-33b7-4823-b463-04dc7b8cfaf1",
   "metadata": {},
   "outputs": [
    {
     "data": {
      "text/plain": [
       "{'nome': 'Maria Futuro',\n",
       " 'data_nascimento': '19/03/1980',\n",
       " 'nome_mae': 'Joana Futuro',\n",
       " 'outros_dados': []}"
      ]
     },
     "execution_count": 25,
     "metadata": {},
     "output_type": "execute_result"
    }
   ],
   "source": [
    "vars(maria)"
   ]
  },
  {
   "cell_type": "code",
   "execution_count": 26,
   "id": "a8c9352b",
   "metadata": {},
   "outputs": [
    {
     "data": {
      "text/plain": [
       "'Olá'"
      ]
     },
     "execution_count": 26,
     "metadata": {},
     "output_type": "execute_result"
    }
   ],
   "source": [
    "jose.bipede"
   ]
  },
  {
   "cell_type": "code",
   "execution_count": 27,
   "id": "9111132f",
   "metadata": {},
   "outputs": [
    {
     "data": {
      "text/plain": [
       "True"
      ]
     },
     "execution_count": 27,
     "metadata": {},
     "output_type": "execute_result"
    }
   ],
   "source": [
    "Humano.bipede"
   ]
  },
  {
   "attachments": {},
   "cell_type": "markdown",
   "id": "a8a5aaf5",
   "metadata": {},
   "source": [
    "### Herança Múltipla"
   ]
  },
  {
   "cell_type": "code",
   "execution_count": 30,
   "id": "3033bc00",
   "metadata": {},
   "outputs": [],
   "source": [
    "class Inteligente(Macaco, Humano):\n",
    "    qi = 100"
   ]
  },
  {
   "cell_type": "code",
   "execution_count": 33,
   "id": "81748b64",
   "metadata": {},
   "outputs": [],
   "source": [
    "jose = Inteligente(\"Paulo Futuro\", apelido='Ape')"
   ]
  },
  {
   "cell_type": "code",
   "execution_count": 34,
   "id": "086ff2d2",
   "metadata": {},
   "outputs": [
    {
     "data": {
      "text/plain": [
       "{'nome': 'Paulo Futuro', 'apelido': 'Ape', 'outros_dados': []}"
      ]
     },
     "execution_count": 34,
     "metadata": {},
     "output_type": "execute_result"
    }
   ],
   "source": [
    "vars(jose)"
   ]
  },
  {
   "cell_type": "code",
   "execution_count": 35,
   "id": "7afc7182",
   "metadata": {},
   "outputs": [
    {
     "data": {
      "text/plain": [
       "'Ape'"
      ]
     },
     "execution_count": 35,
     "metadata": {},
     "output_type": "execute_result"
    }
   ],
   "source": [
    "jose.apelido"
   ]
  },
  {
   "cell_type": "code",
   "execution_count": null,
   "id": "bda17ad9",
   "metadata": {},
   "outputs": [],
   "source": []
  }
 ],
 "metadata": {
  "kernelspec": {
   "display_name": "Python 3 (ipykernel)",
   "language": "python",
   "name": "python3"
  },
  "language_info": {
   "codemirror_mode": {
    "name": "ipython",
    "version": 3
   },
   "file_extension": ".py",
   "mimetype": "text/x-python",
   "name": "python",
   "nbconvert_exporter": "python",
   "pygments_lexer": "ipython3",
   "version": "3.10.7"
  },
  "vscode": {
   "interpreter": {
    "hash": "c3d15393239b8336ab5c3ca8b3aa34b20bee6f478ffc84dff634ebf248e9ed10"
   }
  }
 },
 "nbformat": 4,
 "nbformat_minor": 5
}
