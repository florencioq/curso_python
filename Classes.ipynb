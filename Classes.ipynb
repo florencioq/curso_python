{
 "cells": [
  {
   "cell_type": "markdown",
   "id": "5ecadd11-d070-4cd1-8577-c91aa54a5134",
   "metadata": {},
   "source": [
    "## Classes: dados e funcionalidade juntos\n"
   ]
  },
  {
   "cell_type": "code",
   "execution_count": 1,
   "id": "d5148ed9-6349-4731-bde8-85f0f0d6d85d",
   "metadata": {},
   "outputs": [],
   "source": [
    "# Apenas dados\n",
    "class Humano:\n",
    "    def __init__(self, nome, data_nascimento, nome_mae):\n",
    "        self.nome = nome\n",
    "        self.data_nascimento = data_nascimento\n",
    "        self.nome_mae = nome_mae\n",
    "        self.outros_dados = []\n"
   ]
  },
  {
   "cell_type": "code",
   "execution_count": 2,
   "id": "45d545ff-808f-40e7-8e8e-077bfb660e4e",
   "metadata": {},
   "outputs": [],
   "source": [
    "jose = Humano(\"Jose Futuro\", \"15/01/2000\", \"Maria Futuro\")\n"
   ]
  },
  {
   "cell_type": "code",
   "execution_count": 3,
   "id": "f366536f-8500-46b0-ada9-f31b3a9a8623",
   "metadata": {},
   "outputs": [
    {
     "data": {
      "text/plain": [
       "<__main__.Humano at 0x1112622f0>"
      ]
     },
     "execution_count": 3,
     "metadata": {},
     "output_type": "execute_result"
    }
   ],
   "source": [
    "jose\n"
   ]
  },
  {
   "cell_type": "code",
   "execution_count": 4,
   "id": "bf74a13e-4580-4c1f-856d-7108b3fbf16c",
   "metadata": {},
   "outputs": [
    {
     "data": {
      "text/plain": [
       "'15/01/2000'"
      ]
     },
     "execution_count": 4,
     "metadata": {},
     "output_type": "execute_result"
    }
   ],
   "source": [
    "jose.data_nascimento\n"
   ]
  },
  {
   "cell_type": "code",
   "execution_count": 5,
   "id": "27461e92-27cc-442d-8d7b-2192484a5312",
   "metadata": {},
   "outputs": [],
   "source": [
    "jose.nome = \"Maria\"\n"
   ]
  },
  {
   "cell_type": "code",
   "execution_count": 6,
   "id": "0b18de8e-cb2e-4372-8a6c-6fd915ba3514",
   "metadata": {},
   "outputs": [
    {
     "data": {
      "text/plain": [
       "'Maria'"
      ]
     },
     "execution_count": 6,
     "metadata": {},
     "output_type": "execute_result"
    }
   ],
   "source": [
    "jose.nome\n"
   ]
  },
  {
   "cell_type": "code",
   "execution_count": 7,
   "id": "c3814102-8203-4060-91b7-6c4a9b37e7fe",
   "metadata": {},
   "outputs": [],
   "source": [
    "paulo = Humano('Paulo', '01/01/1980', 'Joana')\n"
   ]
  },
  {
   "cell_type": "code",
   "execution_count": 8,
   "id": "11740605-9836-441f-82e1-63d49f642fe1",
   "metadata": {},
   "outputs": [
    {
     "data": {
      "text/plain": [
       "<__main__.Humano at 0x111263e80>"
      ]
     },
     "execution_count": 8,
     "metadata": {},
     "output_type": "execute_result"
    }
   ],
   "source": [
    "paulo"
   ]
  },
  {
   "cell_type": "markdown",
   "id": "ae5229a5-2ba3-4b27-9d6c-ecc299479f9c",
   "metadata": {},
   "source": [
    "### Criando atributos dinamicamente\n"
   ]
  },
  {
   "cell_type": "code",
   "execution_count": 9,
   "id": "c7db9dbc-8530-45da-89d5-09391e6b6bbd",
   "metadata": {},
   "outputs": [],
   "source": [
    "maria = Humano(\"Maria Futuro\", \"19/03/1980\", \"Joana Futuro\")\n",
    "jose = Humano(\"Paulo Futuro\", \"15/01/2000\", \"Maria Futuro\")"
   ]
  },
  {
   "cell_type": "code",
   "execution_count": 10,
   "id": "ad41fa73-5732-421f-8eed-60afb81a570e",
   "metadata": {},
   "outputs": [],
   "source": [
    "jose.cpf = \"423423423\"\n"
   ]
  },
  {
   "cell_type": "code",
   "execution_count": 11,
   "id": "5f4add24-15b7-411c-9b61-11b4ab32a948",
   "metadata": {},
   "outputs": [
    {
     "data": {
      "text/plain": [
       "{'nome': 'Paulo Futuro',\n",
       " 'data_nascimento': '15/01/2000',\n",
       " 'nome_mae': 'Maria Futuro',\n",
       " 'outros_dados': [],\n",
       " 'cpf': '423423423'}"
      ]
     },
     "execution_count": 11,
     "metadata": {},
     "output_type": "execute_result"
    }
   ],
   "source": [
    "vars(jose)\n"
   ]
  },
  {
   "cell_type": "code",
   "execution_count": 12,
   "id": "d65fc73c-0663-4d59-94ef-5424c8d2fdb8",
   "metadata": {},
   "outputs": [
    {
     "data": {
      "text/plain": [
       "{'nome': 'Maria Futuro',\n",
       " 'data_nascimento': '19/03/1980',\n",
       " 'nome_mae': 'Joana Futuro',\n",
       " 'outros_dados': []}"
      ]
     },
     "execution_count": 12,
     "metadata": {},
     "output_type": "execute_result"
    }
   ],
   "source": [
    "vars(maria)\n"
   ]
  },
  {
   "cell_type": "code",
   "execution_count": 13,
   "id": "ae38902f-3505-4d79-800e-309c92ea1f08",
   "metadata": {},
   "outputs": [
    {
     "data": {
      "text/plain": [
       "__main__.Humano"
      ]
     },
     "execution_count": 13,
     "metadata": {},
     "output_type": "execute_result"
    }
   ],
   "source": [
    "type(maria)\n"
   ]
  },
  {
   "cell_type": "code",
   "execution_count": 14,
   "id": "e99c11cd-8b0c-4a20-9e05-458248b07070",
   "metadata": {},
   "outputs": [
    {
     "data": {
      "text/plain": [
       "__main__.Humano"
      ]
     },
     "execution_count": 14,
     "metadata": {},
     "output_type": "execute_result"
    }
   ],
   "source": [
    "type(jose)\n"
   ]
  },
  {
   "cell_type": "markdown",
   "id": "77602197-afd1-4903-90c7-30b7ad1c84d5",
   "metadata": {},
   "source": [
    "### Métodos\n"
   ]
  },
  {
   "cell_type": "code",
   "execution_count": 15,
   "id": "1a7a0035-414d-4ae2-971f-39977d6338f4",
   "metadata": {},
   "outputs": [],
   "source": [
    "class Humano:\n",
    "    # propriedades da classe\n",
    "    numero_pernas = 2\n",
    "\n",
    "    def __init__(self, nome, data_nascimento, nome_mae):\n",
    "        # propriedades dos objetos\n",
    "        self.nome = nome\n",
    "        self.data_nascimento = data_nascimento\n",
    "        self.nome_mae = nome_mae\n",
    "        self.outros_dados = []\n",
    "\n",
    "    def identifica(self):\n",
    "        return {\n",
    "            \"nome\": self.nome,\n",
    "            \"data de nascimento\": self.data_nascimento,\n",
    "            \"nome da mãe\": self.nome_mae,\n",
    "        }\n"
   ]
  },
  {
   "cell_type": "code",
   "execution_count": 16,
   "id": "d32f2d06-ab01-40b7-9ffe-1891d8047d85",
   "metadata": {},
   "outputs": [],
   "source": [
    "maria = Humano(\"Maria Futuro\", \"19/03/1980\", \"Joana Futuro\")\n",
    "jose = Humano(\"Paulo Futuro\", \"15/01/2000\", \"Maria Futuro\")"
   ]
  },
  {
   "cell_type": "code",
   "execution_count": 17,
   "id": "52f312d5-3a37-4573-a23f-a6d143587d15",
   "metadata": {},
   "outputs": [
    {
     "name": "stdout",
     "output_type": "stream",
     "text": [
      "{'nome': 'Maria Futuro', 'data de nascimento': '19/03/1980', 'nome da mãe': 'Joana Futuro'}\n"
     ]
    }
   ],
   "source": [
    "print(maria.identifica())"
   ]
  },
  {
   "cell_type": "code",
   "execution_count": 18,
   "id": "e7cb6ea2-c9ba-475e-9777-c189bd7cb3c2",
   "metadata": {},
   "outputs": [
    {
     "data": {
      "text/plain": [
       "{'nome': 'Maria Futuro',\n",
       " 'data_nascimento': '19/03/1980',\n",
       " 'nome_mae': 'Joana Futuro',\n",
       " 'outros_dados': []}"
      ]
     },
     "execution_count": 18,
     "metadata": {},
     "output_type": "execute_result"
    }
   ],
   "source": [
    "vars(maria)"
   ]
  },
  {
   "cell_type": "code",
   "execution_count": 19,
   "id": "3609069d-eb15-40b6-a506-f5d95f65dd80",
   "metadata": {},
   "outputs": [
    {
     "data": {
      "text/plain": [
       "2"
      ]
     },
     "execution_count": 19,
     "metadata": {},
     "output_type": "execute_result"
    }
   ],
   "source": [
    "Humano.numero_pernas"
   ]
  },
  {
   "cell_type": "code",
   "execution_count": 20,
   "id": "85c30bbb-be5e-48e1-8d7d-bb4876ac35d4",
   "metadata": {},
   "outputs": [
    {
     "data": {
      "text/plain": [
       "2"
      ]
     },
     "execution_count": 20,
     "metadata": {},
     "output_type": "execute_result"
    }
   ],
   "source": [
    "maria.numero_pernas"
   ]
  },
  {
   "cell_type": "code",
   "execution_count": 21,
   "id": "a451fbc0-1f05-4ac6-9662-2942f170039c",
   "metadata": {},
   "outputs": [],
   "source": [
    "jose.numero_pernas = 3"
   ]
  },
  {
   "cell_type": "code",
   "execution_count": 22,
   "id": "bdae25e9-9bb3-4270-8429-0d97bfaa017e",
   "metadata": {},
   "outputs": [
    {
     "data": {
      "text/plain": [
       "{'nome': 'Paulo Futuro',\n",
       " 'data_nascimento': '15/01/2000',\n",
       " 'nome_mae': 'Maria Futuro',\n",
       " 'outros_dados': [],\n",
       " 'numero_pernas': 3}"
      ]
     },
     "execution_count": 22,
     "metadata": {},
     "output_type": "execute_result"
    }
   ],
   "source": [
    "vars(jose)"
   ]
  },
  {
   "cell_type": "code",
   "execution_count": 23,
   "id": "bf169b57-53eb-4e61-a2e8-20dad267a328",
   "metadata": {},
   "outputs": [
    {
     "data": {
      "text/plain": [
       "{'nome': 'Maria Futuro',\n",
       " 'data_nascimento': '19/03/1980',\n",
       " 'nome_mae': 'Joana Futuro',\n",
       " 'outros_dados': []}"
      ]
     },
     "execution_count": 23,
     "metadata": {},
     "output_type": "execute_result"
    }
   ],
   "source": [
    "vars(maria)"
   ]
  },
  {
   "cell_type": "code",
   "execution_count": 24,
   "id": "20c4ed01-3d30-4964-b674-b4f8f7c5c305",
   "metadata": {},
   "outputs": [
    {
     "data": {
      "text/plain": [
       "2"
      ]
     },
     "execution_count": 24,
     "metadata": {},
     "output_type": "execute_result"
    }
   ],
   "source": [
    "maria.numero_pernas "
   ]
  },
  {
   "cell_type": "code",
   "execution_count": 25,
   "id": "0a761034-38b1-45db-9404-65863b7df623",
   "metadata": {},
   "outputs": [
    {
     "data": {
      "text/plain": [
       "3"
      ]
     },
     "execution_count": 25,
     "metadata": {},
     "output_type": "execute_result"
    }
   ],
   "source": [
    "jose.numero_pernas"
   ]
  },
  {
   "cell_type": "code",
   "execution_count": 26,
   "id": "0a58e212-6ca2-4b1b-88a1-8abf354a1b9d",
   "metadata": {},
   "outputs": [],
   "source": [
    "Humano.numero_pernas = 3"
   ]
  },
  {
   "cell_type": "code",
   "execution_count": 27,
   "id": "35101b97-4774-4c47-b0a8-8c389b66a126",
   "metadata": {},
   "outputs": [
    {
     "data": {
      "text/plain": [
       "3"
      ]
     },
     "execution_count": 27,
     "metadata": {},
     "output_type": "execute_result"
    }
   ],
   "source": [
    "Humano.numero_pernas"
   ]
  },
  {
   "cell_type": "markdown",
   "id": "91e5c971-d243-4726-9526-96e321f8bd19",
   "metadata": {},
   "source": [
    "## Herança"
   ]
  },
  {
   "attachments": {},
   "cell_type": "markdown",
   "id": "0e43ff29",
   "metadata": {},
   "source": [
    "- Primata\n",
    "    - Gorila\n",
    "    - Chimpanzé"
   ]
  },
  {
   "cell_type": "code",
   "execution_count": 28,
   "id": "48c7104a-5dfc-409a-8375-35906295c552",
   "metadata": {},
   "outputs": [],
   "source": [
    "class Primata():\n",
    "    __cerebro_grande = True\n",
    "    visao_estereoscopica = True\n",
    "\n",
    "\n",
    "class Gorila(Primata):\n",
    "    # propriedades da classe\n",
    "    gosta_montanha = True\n",
    "\n",
    "    def __init__(self, nome, data_nascimento, nome_mae):\n",
    "        # propriedades dos objetos\n",
    "        self.nome = nome\n",
    "        self.data_nascimento = data_nascimento\n",
    "        self.nome_mae = nome_mae\n",
    "        self.outros_dados = []\n",
    "\n",
    "    def identifica(self):\n",
    "        return {\n",
    "            \"nome\": self.nome,\n",
    "            \"data de nascimento\": self.data_nascimento,\n",
    "            \"nome da mãe\": self.nome_mae,\n",
    "        }\n",
    "\n",
    "        \n",
    "class Chimpanze(Primata):\n",
    "    # propriedades da classe\n",
    "    gosta_montanha = False\n",
    "\n",
    "    def __init__(self, nome, nome_pai):\n",
    "        # propriedades dos objetos\n",
    "        self.nome = nome\n",
    "        self.nome_pai = nome_pai\n",
    "        self.outros_dados = []\n",
    "\n",
    "    def identifica(self):\n",
    "        return {\n",
    "            \"nome\": self.nome,\n",
    "            \"apelido\": self.apelido\n",
    "        }"
   ]
  },
  {
   "cell_type": "code",
   "execution_count": 29,
   "id": "eaa6237b",
   "metadata": {},
   "outputs": [],
   "source": [
    "bitonga = Chimpanze(\"Bitonga\", \"Boleira\")\n",
    "patrono = Gorila(\"Duque\", \"15/01/2000\", \"Bateira\")"
   ]
  },
  {
   "cell_type": "code",
   "execution_count": 30,
   "id": "40e66ac4",
   "metadata": {},
   "outputs": [
    {
     "data": {
      "text/plain": [
       "{'nome': 'Bitonga', 'nome_pai': 'Boleira', 'outros_dados': []}"
      ]
     },
     "execution_count": 30,
     "metadata": {},
     "output_type": "execute_result"
    }
   ],
   "source": [
    "vars(bitonga)"
   ]
  },
  {
   "attachments": {},
   "cell_type": "markdown",
   "id": "a8a5aaf5",
   "metadata": {},
   "source": [
    "### Herança Múltipla"
   ]
  },
  {
   "cell_type": "code",
   "execution_count": 31,
   "id": "3033bc00",
   "metadata": {},
   "outputs": [],
   "source": [
    "class Inteligente(Gorila, Chimpanze):\n",
    "    qi = 100"
   ]
  },
  {
   "cell_type": "code",
   "execution_count": 32,
   "id": "81748b64",
   "metadata": {},
   "outputs": [],
   "source": [
    "manico = Inteligente(\"Manico\", data_nascimento='19/01/1980', nome_mae='Poderosa')"
   ]
  },
  {
   "cell_type": "code",
   "execution_count": 33,
   "id": "086ff2d2",
   "metadata": {},
   "outputs": [
    {
     "data": {
      "text/plain": [
       "{'nome': 'Manico',\n",
       " 'data_nascimento': '19/01/1980',\n",
       " 'nome_mae': 'Poderosa',\n",
       " 'outros_dados': []}"
      ]
     },
     "execution_count": 33,
     "metadata": {},
     "output_type": "execute_result"
    }
   ],
   "source": [
    "vars(manico)"
   ]
  },
  {
   "cell_type": "code",
   "execution_count": 34,
   "id": "7afc7182",
   "metadata": {},
   "outputs": [
    {
     "data": {
      "text/plain": [
       "True"
      ]
     },
     "execution_count": 34,
     "metadata": {},
     "output_type": "execute_result"
    }
   ],
   "source": [
    "manico.gosta_montanha"
   ]
  },
  {
   "cell_type": "code",
   "execution_count": 37,
   "id": "bda17ad9",
   "metadata": {},
   "outputs": [
    {
     "data": {
      "text/plain": [
       "True"
      ]
     },
     "execution_count": 37,
     "metadata": {},
     "output_type": "execute_result"
    }
   ],
   "source": [
    "Primata._Primata__cerebro_grande"
   ]
  },
  {
   "cell_type": "code",
   "execution_count": 48,
   "id": "0ae4b369",
   "metadata": {},
   "outputs": [],
   "source": [
    "class Primata():\n",
    "    __cerebro_grande = True\n",
    "    visao_estereoscopica = True\n",
    "\n",
    "    def __init__(self, nome, data_nascimento, nome_mae):\n",
    "        # propriedades dos objetos\n",
    "        self.nome = nome\n",
    "        self.data_nascimento = data_nascimento\n",
    "        self.nome_mae = nome_mae\n",
    "        self.outros_dados = []\n",
    "\n",
    "\n",
    "class Gorila(Primata):\n",
    "    # propriedades da classe\n",
    "    gosta_montanha = True\n",
    "\n",
    "    def identifica(self):\n",
    "        return {\n",
    "            \"nome\": self.nome,\n",
    "            \"data de nascimento\": self.data_nascimento,\n",
    "            \"nome da mãe\": self.nome_mae,\n",
    "        }\n",
    "\n",
    "        \n",
    "class Chimpanze(Primata):\n",
    "    # propriedades da classe\n",
    "    gosta_montanha = False\n",
    "\n",
    "    def identifica(self):\n",
    "        return {\n",
    "            \"nome\": self.nome,\n",
    "            \"apelido\": self.apelido\n",
    "        }"
   ]
  },
  {
   "cell_type": "code",
   "execution_count": null,
   "id": "925d96d2",
   "metadata": {},
   "outputs": [],
   "source": []
  }
 ],
 "metadata": {
  "kernelspec": {
   "display_name": "venv",
   "language": "python",
   "name": "python3"
  },
  "language_info": {
   "codemirror_mode": {
    "name": "ipython",
    "version": 3
   },
   "file_extension": ".py",
   "mimetype": "text/x-python",
   "name": "python",
   "nbconvert_exporter": "python",
   "pygments_lexer": "ipython3",
   "version": "3.10.6 (main, Aug 30 2022, 05:12:36) [Clang 13.1.6 (clang-1316.0.21.2.5)]"
  },
  "vscode": {
   "interpreter": {
    "hash": "47101a6f7e6e3815408fca523c577877cd2d8021827ae66052ace7384bef3edb"
   }
  }
 },
 "nbformat": 4,
 "nbformat_minor": 5
}
