{
 "cells": [
  {
   "cell_type": "code",
   "execution_count": 13,
   "id": "a528eded",
   "metadata": {},
   "outputs": [
    {
     "name": "stdout",
     "output_type": "stream",
     "text": [
      "Entre com um número (0, 1 ou 2): 6\n",
      "Você entrou outra coisa\n"
     ]
    }
   ],
   "source": [
    "numero = int(input(\"Entre com um número (0, 1 ou 2): \"))\n",
    "match numero:\n",
    "    case 0:\n",
    "        print(\"Número zerado\")\n",
    "    case 1:\n",
    "        print(\"Primeiro número\")\n",
    "    case 2:\n",
    "        print(\"Segundo número\")\n",
    "    case _:\n",
    "        print(\"Você entrou outra coisa\")"
   ]
  },
  {
   "cell_type": "code",
   "execution_count": 14,
   "id": "143537e9",
   "metadata": {},
   "outputs": [
    {
     "name": "stdout",
     "output_type": "stream",
     "text": [
      "Entre com 1, 2, ou 3 números: 1 2 3 4\n",
      "Entrada: 1 2 3 4\n",
      "Lista: ['1', '2', '3', '4']\n",
      "Você entrou outro padrão\n"
     ]
    }
   ],
   "source": [
    "numeros = input(\"Entre com 1, 2, ou 3 números: \")\n",
    "print(\"Entrada:\", numeros)\n",
    "lista_numeros = numeros.split()\n",
    "print(\"Lista:\", lista_numeros)\n",
    "match lista_numeros:\n",
    "    case [x]:\n",
    "        print(\"Você entrou um número\")\n",
    "    case [x, y]:\n",
    "        print(\"Você entrou dois número\")\n",
    "    case [x, y, z]:\n",
    "        print(\"Você entrou três número\")\n",
    "    case _:\n",
    "        print(\"Você entrou outro padrão\")"
   ]
  },
  {
   "cell_type": "code",
   "execution_count": null,
   "id": "022120f2",
   "metadata": {},
   "outputs": [],
   "source": []
  }
 ],
 "metadata": {
  "kernelspec": {
   "display_name": "Python 3.10.5 ('venv': venv)",
   "language": "python",
   "name": "python3"
  },
  "language_info": {
   "codemirror_mode": {
    "name": "ipython",
    "version": 3
   },
   "file_extension": ".py",
   "mimetype": "text/x-python",
   "name": "python",
   "nbconvert_exporter": "python",
   "pygments_lexer": "ipython3",
   "version": "3.10.5"
  },
  "vscode": {
   "interpreter": {
    "hash": "86d208afef672c846e1378f65c6da7724a01a633fe33b00075010bc11d86700a"
   }
  }
 },
 "nbformat": 4,
 "nbformat_minor": 5
}
