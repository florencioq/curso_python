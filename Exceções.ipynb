{
 "cells": [
  {
   "cell_type": "markdown",
   "metadata": {},
   "source": [
    "## Exceções: erros detectados durante a execução dos programas"
   ]
  },
  {
   "cell_type": "code",
   "execution_count": null,
   "metadata": {},
   "outputs": [],
   "source": [
    "10 * (10/0)\n"
   ]
  },
  {
   "cell_type": "code",
   "execution_count": null,
   "metadata": {},
   "outputs": [],
   "source": [
    "print(int('a'))"
   ]
  },
  {
   "cell_type": "code",
   "execution_count": null,
   "metadata": {},
   "outputs": [],
   "source": [
    "1 + variavel*7\n"
   ]
  },
  {
   "cell_type": "code",
   "execution_count": null,
   "metadata": {},
   "outputs": [],
   "source": [
    "'2' + 2\n"
   ]
  },
  {
   "cell_type": "code",
   "execution_count": null,
   "metadata": {},
   "outputs": [],
   "source": [
    "lista = [1, 2, 3]\n",
    "print(lista[3])"
   ]
  },
  {
   "cell_type": "code",
   "execution_count": null,
   "metadata": {},
   "outputs": [],
   "source": [
    "dicionario = {1: 'um', 2: 'dois'}\n",
    "print(dicionario[3])"
   ]
  },
  {
   "cell_type": "code",
   "execution_count": null,
   "metadata": {},
   "outputs": [],
   "source": [
    "with open(file='blah.txt', mode='r', encoding=\"utf-8\") as f:\n",
    "    s = f.readlines()"
   ]
  },
  {
   "cell_type": "markdown",
   "metadata": {},
   "source": [
    "## Como tratar as exceções"
   ]
  },
  {
   "cell_type": "code",
   "execution_count": null,
   "metadata": {},
   "outputs": [],
   "source": [
    "x = int(input(\"Entre com um número inteiro diferente de zero: \"))\n",
    "print(10/x)"
   ]
  },
  {
   "cell_type": "code",
   "execution_count": null,
   "metadata": {},
   "outputs": [],
   "source": [
    "while True:\n",
    "    try:\n",
    "        x = int(input(\"Entre com um número: \"))\n",
    "        print(10/x)\n",
    "    except Exception as err:\n",
    "        print(err, type(err))"
   ]
  },
  {
   "cell_type": "code",
   "execution_count": null,
   "metadata": {},
   "outputs": [
    {
     "name": "stdout",
     "output_type": "stream",
     "text": [
      "---------------------------\n"
     ]
    },
    {
     "name": "stdin",
     "output_type": "stream",
     "text": [
      "Entre com um número:  1\n"
     ]
    },
    {
     "name": "stdout",
     "output_type": "stream",
     "text": [
      "10/1=10.0\n",
      "10/1=10.0\n",
      "3. Valor entrado corretamente\n",
      "4. Fechando e limpando coisas\n",
      "---------------------------\n"
     ]
    },
    {
     "name": "stdin",
     "output_type": "stream",
     "text": [
      "Entre com um número:  2\n"
     ]
    },
    {
     "name": "stdout",
     "output_type": "stream",
     "text": [
      "10/2=5.0\n",
      "10/2=5.0\n",
      "3. Valor entrado corretamente\n",
      "4. Fechando e limpando coisas\n",
      "---------------------------\n"
     ]
    },
    {
     "name": "stdin",
     "output_type": "stream",
     "text": [
      "Entre com um número:  3\n"
     ]
    },
    {
     "name": "stdout",
     "output_type": "stream",
     "text": [
      "10/3=3.3333333333333335\n",
      "10/3=3.3333333333333335\n",
      "3. Valor entrado corretamente\n",
      "4. Fechando e limpando coisas\n",
      "---------------------------\n"
     ]
    }
   ],
   "source": [
    "dividendo = 10\n",
    "while True:\n",
    "    try:\n",
    "        print(\"---------------------------\")\n",
    "        divisor = int(input(\"Entre com um número: \"))\n",
    "        print(f\"{dividendo}/{divisor}={10/x}\")\n",
    "        print(\"10/{dividendo}={quociente}\".format(divisor, quociente=10/x))\n",
    "    except ZeroDivisionError:\n",
    "        print(\"1. O número deve ser diferente de zero\")\n",
    "    except ValueError:\n",
    "        print(\"2. O valor não é válido\")\n",
    "    except Exception as err:\n",
    "        print(err, type(err))\n",
    "    else:\n",
    "        print(\"3. Valor entrado corretamente\")\n",
    "    finally:\n",
    "        print(\"4. Fechando e limpando coisas\")"
   ]
  },
  {
   "cell_type": "code",
   "execution_count": null,
   "metadata": {},
   "outputs": [],
   "source": []
  },
  {
   "cell_type": "code",
   "execution_count": null,
   "metadata": {},
   "outputs": [],
   "source": []
  }
 ],
 "metadata": {
  "kernelspec": {
   "display_name": "Python 3 (ipykernel)",
   "language": "python",
   "name": "python3"
  },
  "language_info": {
   "codemirror_mode": {
    "name": "ipython",
    "version": 3
   },
   "file_extension": ".py",
   "mimetype": "text/x-python",
   "name": "python",
   "nbconvert_exporter": "python",
   "pygments_lexer": "ipython3",
   "version": "3.10.5"
  },
  "vscode": {
   "interpreter": {
    "hash": "86d208afef672c846e1378f65c6da7724a01a633fe33b00075010bc11d86700a"
   }
  }
 },
 "nbformat": 4,
 "nbformat_minor": 4
}
