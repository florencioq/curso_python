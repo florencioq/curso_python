{
 "cells": [
  {
   "cell_type": "code",
   "execution_count": 10,
   "id": "aae2d3c4",
   "metadata": {},
   "outputs": [
    {
     "name": "stdout",
     "output_type": "stream",
     "text": [
      "id numero_final 2823716536848\n",
      "Anotações {'n': <class 'int'>, 'return': <class 'int'>}\n",
      "id n 2823716536848\n",
      "id soma 2823716538288\n",
      "id minha soma 2823716538288\n",
      "Minha soma 55\n"
     ]
    }
   ],
   "source": [
    "def soma_ate(n: int) -> int:\n",
    "    \"\"\"Soma de zero até um certo número\"\"\"\n",
    "    print(\"Anotações\", soma_ate.__annotations__)\n",
    "    soma = 0\n",
    "    print(\"id n\", id(n))\n",
    "    for i in range(n + 1):\n",
    "        soma = soma + i\n",
    "    print(\"id soma\", id(soma))\n",
    "    return soma\n",
    "\n",
    "\n",
    "número_final = 10\n",
    "print(\"id numero_final\", id(número_final))\n",
    "minha_soma = soma_até(número_final)\n",
    "print(\"id minha soma\", id(minha_soma))\n",
    "print(\"Minha soma\", minha_soma)\n"
   ]
  },
  {
   "cell_type": "code",
   "execution_count": 7,
   "id": "53d40c2e",
   "metadata": {},
   "outputs": [
    {
     "name": "stdout",
     "output_type": "stream",
     "text": [
      "Anotações {'n': <class 'int'>, 'return': <class 'list'>}\n",
      "[0, 1, 1, 2, 3, 5, 8, 13]\n"
     ]
    }
   ],
   "source": [
    "def fib(n: int) -> list:\n",
    "    \"\"\"Gera uma lista com números de Fibonacci\"\"\"\n",
    "    print(\"Anotações\", fib.__annotations__)\n",
    "    lista_fib = []\n",
    "    a, b = 0, 1\n",
    "    while a <= n:\n",
    "        lista_fib.append(a)\n",
    "        c = a + b\n",
    "        a = b\n",
    "        b = c\n",
    "    return lista_fib\n",
    "\n",
    "\n",
    "print(fib(20))\n"
   ]
  },
  {
   "cell_type": "code",
   "execution_count": 6,
   "id": "4935aa00",
   "metadata": {},
   "outputs": [
    {
     "name": "stdout",
     "output_type": "stream",
     "text": [
      "Anotações {'x': <class 'int'>, 'palavra': <class 'str'>, 'y': <class 'int'>, 'nomeados': typing.Any, 'return': None}\n",
      "nomeados= {'dia': 'amanhã'}\n",
      "1 Z_Z_Z_Z_Z_\n",
      "2 Z_Z_Z_Z_Z_\n",
      "3 Z_Z_Z_Z_Z_\n",
      "4 Z_Z_Z_Z_Z_\n",
      "5 Z_Z_Z_Z_Z_\n"
     ]
    }
   ],
   "source": [
    "from typing import Any\n",
    "\n",
    "\n",
    "def print_palavra(\n",
    "    palavra: str,\n",
    "    /,\n",
    "    x: int = 3,\n",
    "    *,\n",
    "    y: int = 4,\n",
    "    **nomeados: Any,\n",
    ") -> None:\n",
    "    \"\"\"Imprime um retângulo de palavra\"\"\"\n",
    "    print(\"Anotações\", print_palavra.__annotations__)\n",
    "    print(\"nomeados=\", nomeados)\n",
    "    for i in range(y):\n",
    "        print(i + 1, x * palavra)\n",
    "    return None\n",
    "\n",
    "\n",
    "print_palavra(\"Z_\", 5, y=5, dia=\"amanhã\")\n"
   ]
  },
  {
   "cell_type": "code",
   "execution_count": 5,
   "id": "434b6b2d-7a9e-4cb2-a47c-204b4849d524",
   "metadata": {},
   "outputs": [
    {
     "name": "stdout",
     "output_type": "stream",
     "text": [
      "Anotações {'posicionais': typing.Any, 'nomeados': typing.Any, 'return': None}\n",
      "posicionais (1, 2, 3, 4, 5, 'a', 'b', 'c')\n",
      "nomeados {'nome': 'José', 'pais': 'Brasil'}\n"
     ]
    }
   ],
   "source": [
    "from typing import Any\n",
    "\n",
    "\n",
    "def print_parametros(*posicionais: Any, **nomeados: Any) -> None:\n",
    "    \"\"\"Função para imprimir parâmetros\"\"\"\n",
    "    print(\"Anotações\", print_parametros.__annotations__)\n",
    "    print(\"posicionais\", posicionais)\n",
    "    print(\"nomeados\", nomeados)\n",
    "    return None\n",
    "\n",
    "\n",
    "print_parametros(1, 2, 3, 4, 5, \"a\", \"b\", \"c\", nome=\"José\", pais=\"Brasil\")\n"
   ]
  },
  {
   "cell_type": "code",
   "execution_count": 1,
   "id": "914a0d8c-c947-4ebf-9e8d-b98ffd43587c",
   "metadata": {},
   "outputs": [
    {
     "name": "stdout",
     "output_type": "stream",
     "text": [
      "Anotações {'x': <class 'int'>, 'palavra': <class 'str'>, 'y': <class 'int'>, 'return': None}\n",
      "nomeados= {'dia': 'amanhã'}\n",
      "1 Z_Z_Z_Z_Z_\n",
      "2 Z_Z_Z_Z_Z_\n",
      "3 Z_Z_Z_Z_Z_\n",
      "4 Z_Z_Z_Z_Z_\n",
      "5 Z_Z_Z_Z_Z_\n",
      "\n",
      "Anotações {'x': <class 'int'>, 'palavra': <class 'str'>, 'y': <class 'int'>, 'return': None}\n",
      "nomeados= {'dia': 'amanhã'}\n",
      "1 Z_Z_Z_Z_Z_\n",
      "2 Z_Z_Z_Z_Z_\n",
      "3 Z_Z_Z_Z_Z_\n",
      "4 Z_Z_Z_Z_Z_\n",
      "5 Z_Z_Z_Z_Z_\n"
     ]
    }
   ],
   "source": [
    "def print_palavra(\n",
    "    palavra: str,\n",
    "    /,\n",
    "    x: int = 3,\n",
    "    *,\n",
    "    y: int = 4,\n",
    "    **nomeados,\n",
    ") -> None:\n",
    "    \"\"\"Imprime um retângulo de palavra\"\"\"\n",
    "    print(\"Anotações\", print_palavra.__annotations__)\n",
    "    print(\"nomeados=\", nomeados)\n",
    "    # Comentário: porque fiz?\n",
    "    for i in range(y):\n",
    "        print(i + 1, x * palavra)\n",
    "    return None\n",
    "\n",
    "\n",
    "lista = [\"Z_\", 5]\n",
    "dicionario = {\"y\": 5, \"dia\": \"amanhã\"}\n",
    "print_palavra(\"Z_\", 5, y=5, dia=\"amanhã\")\n",
    "print()\n",
    "print_palavra(*lista, **dicionario)\n"
   ]
  },
  {
   "cell_type": "code",
   "execution_count": null,
   "id": "e372573c-512a-47a6-9041-1e9d637b5692",
   "metadata": {},
   "outputs": [],
   "source": []
  }
 ],
 "metadata": {
  "kernelspec": {
   "display_name": "Python 3 (ipykernel)",
   "language": "python",
   "name": "python3"
  },
  "language_info": {
   "codemirror_mode": {
    "name": "ipython",
    "version": 3
   },
   "file_extension": ".py",
   "mimetype": "text/x-python",
   "name": "python",
   "nbconvert_exporter": "python",
   "pygments_lexer": "ipython3",
   "version": "3.10.7"
  },
  "vscode": {
   "interpreter": {
    "hash": "c3d15393239b8336ab5c3ca8b3aa34b20bee6f478ffc84dff634ebf248e9ed10"
   }
  }
 },
 "nbformat": 4,
 "nbformat_minor": 5
}
