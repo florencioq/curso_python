{
 "cells": [
  {
   "cell_type": "code",
   "execution_count": null,
   "id": "aae2d3c4",
   "metadata": {},
   "outputs": [
    {
     "name": "stdout",
     "output_type": "stream",
     "text": [
      "id numero_final 3214686814736\n",
      "id n 3214686814736\n",
      "id soma 3214686816176\n",
      "id minha soma 3214686816176\n",
      "Minha soma 55\n"
     ]
    }
   ],
   "source": [
    "def soma_até(n):\n",
    "    \"\"\"Soma de zero até um certo número\"\"\"\n",
    "    soma = 0\n",
    "    print('id n', id(n))\n",
    "    for i in range(n+1):\n",
    "        soma = soma + i\n",
    "    print('id soma', id(soma))\n",
    "    return soma\n",
    "\n",
    "número_final = 10\n",
    "print('id numero_final', id(número_final))\n",
    "minha_soma = soma_até(número_final)\n",
    "print('id minha soma', id(minha_soma))\n",
    "print('Minha soma', minha_soma)"
   ]
  },
  {
   "cell_type": "code",
   "execution_count": null,
   "id": "53d40c2e",
   "metadata": {},
   "outputs": [
    {
     "name": "stdout",
     "output_type": "stream",
     "text": [
      "[0, 1, 1, 2, 3, 5, 8, 13]\n"
     ]
    }
   ],
   "source": [
    "def fib(n):\n",
    "    \"\"\"Gera uma lista com números de Fibonacci\"\"\"\n",
    "    lista_fib = []\n",
    "    a, b = 0, 1\n",
    "    while a <= n:\n",
    "        lista_fib.append(a)\n",
    "        c = a + b\n",
    "        a = b\n",
    "        b = c\n",
    "    return lista_fib\n",
    "\n",
    "print(fib(20))"
   ]
  },
  {
   "cell_type": "code",
   "execution_count": 20,
   "id": "4935aa00",
   "metadata": {},
   "outputs": [
    {
     "ename": "TypeError",
     "evalue": "print_palavra() got an unexpected keyword argument 'z'",
     "output_type": "error",
     "traceback": [
      "\u001b[1;31m---------------------------------------------------------------------------\u001b[0m",
      "\u001b[1;31mTypeError\u001b[0m                                 Traceback (most recent call last)",
      "Cell \u001b[1;32mIn [20], line 7\u001b[0m\n\u001b[0;32m      4\u001b[0m         \u001b[38;5;28mprint\u001b[39m(i\u001b[38;5;241m+\u001b[39m\u001b[38;5;241m1\u001b[39m, x \u001b[38;5;241m*\u001b[39m palavra)\n\u001b[0;32m      5\u001b[0m     \u001b[38;5;28;01mreturn\u001b[39;00m \u001b[38;5;28;01mNone\u001b[39;00m\n\u001b[1;32m----> 7\u001b[0m \u001b[43mprint_palavra\u001b[49m\u001b[43m(\u001b[49m\u001b[38;5;124;43m'\u001b[39;49m\u001b[38;5;124;43mZ_\u001b[39;49m\u001b[38;5;124;43m'\u001b[39;49m\u001b[43m,\u001b[49m\u001b[43m \u001b[49m\u001b[38;5;241;43m5\u001b[39;49m\u001b[43m,\u001b[49m\u001b[43m \u001b[49m\u001b[38;5;241;43m5\u001b[39;49m\u001b[43m,\u001b[49m\u001b[43m \u001b[49m\u001b[43mz\u001b[49m\u001b[38;5;241;43m=\u001b[39;49m\u001b[38;5;241;43m6\u001b[39;49m\u001b[43m)\u001b[49m\n",
      "\u001b[1;31mTypeError\u001b[0m: print_palavra() got an unexpected keyword argument 'z'"
     ]
    }
   ],
   "source": [
    "def print_palavra(palavra, x=3, y=4):\n",
    "    \"\"\"Imprime um retângulo de palavra\"\"\"\n",
    "    for i in range(y):\n",
    "        print(i+1, x * palavra)\n",
    "    return None\n",
    "        \n",
    "print_palavra('Z_', 5, 5, z=6)"
   ]
  },
  {
   "cell_type": "code",
   "execution_count": null,
   "id": "21f4f892-7353-4e64-b0f6-5c502c3183b2",
   "metadata": {},
   "outputs": [],
   "source": []
  },
  {
   "cell_type": "code",
   "execution_count": null,
   "id": "3df87903-f284-4165-afc6-1f48fed3198a",
   "metadata": {},
   "outputs": [],
   "source": []
  }
 ],
 "metadata": {
  "kernelspec": {
   "display_name": "Python 3 (ipykernel)",
   "language": "python",
   "name": "python3"
  },
  "language_info": {
   "codemirror_mode": {
    "name": "ipython",
    "version": 3
   },
   "file_extension": ".py",
   "mimetype": "text/x-python",
   "name": "python",
   "nbconvert_exporter": "python",
   "pygments_lexer": "ipython3",
   "version": "3.10.7"
  }
 },
 "nbformat": 4,
 "nbformat_minor": 5
}
