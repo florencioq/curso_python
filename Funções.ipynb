{
 "cells": [
  {
   "cell_type": "code",
   "execution_count": 6,
   "id": "aae2d3c4",
   "metadata": {},
   "outputs": [
    {
     "name": "stdout",
     "output_type": "stream",
     "text": [
      "id numero_final 2703629419024\n",
      "id n 2703629419024\n",
      "id soma 2703629420464\n",
      "id minha soma 2703629420464\n",
      "Minha soma 55\n"
     ]
    }
   ],
   "source": [
    "def soma_até(n):\n",
    "    \"\"\"Soma de zero até um certo número\"\"\"\n",
    "    soma = 0\n",
    "    print('id n', id(n))\n",
    "    for i in range(n+1):\n",
    "        soma = soma + i\n",
    "    print('id soma', id(soma))\n",
    "    return soma\n",
    "\n",
    "número_final = 10\n",
    "print('id numero_final', id(número_final))\n",
    "minha_soma = soma_até(número_final)\n",
    "print('id minha soma', id(minha_soma))\n",
    "print('Minha soma', minha_soma)"
   ]
  },
  {
   "cell_type": "code",
   "execution_count": 9,
   "id": "53d40c2e",
   "metadata": {},
   "outputs": [
    {
     "name": "stdout",
     "output_type": "stream",
     "text": [
      "[0, 1, 1, 2, 3, 5, 8, 13]\n"
     ]
    }
   ],
   "source": [
    "def fib(n):\n",
    "    \"\"\"Gera uma lista com números de Fibonacci\"\"\"\n",
    "    lista_fib = []\n",
    "    a, b = 0, 1\n",
    "    while a <= n:\n",
    "        lista_fib.append(a)\n",
    "        c = a + b\n",
    "        a = b\n",
    "        b = c\n",
    "    return lista_fib\n",
    "\n",
    "print(fib(20))"
   ]
  },
  {
   "cell_type": "code",
   "execution_count": 23,
   "id": "4935aa00",
   "metadata": {},
   "outputs": [
    {
     "name": "stdout",
     "output_type": "stream",
     "text": [
      "1 X_X_X_X_X_\n",
      "2 X_X_X_X_X_\n",
      "3 X_X_X_X_X_\n",
      "4 X_X_X_X_X_\n",
      "5 X_X_X_X_X_\n"
     ]
    }
   ],
   "source": [
    "def print_palavra(palavra, x=3, y=4):\n",
    "    \"\"\"Imprime um retângulo de palavra\"\"\"\n",
    "    for i in range(y):\n",
    "        print(i+1, x * palavra)\n",
    "    return None\n",
    "        \n",
    "print_palavra('X_', x=5, y=5)"
   ]
  },
  {
   "cell_type": "code",
   "execution_count": null,
   "id": "21f4f892-7353-4e64-b0f6-5c502c3183b2",
   "metadata": {},
   "outputs": [],
   "source": []
  }
 ],
 "metadata": {
  "kernelspec": {
   "display_name": "Python 3 (ipykernel)",
   "language": "python",
   "name": "python3"
  },
  "language_info": {
   "codemirror_mode": {
    "name": "ipython",
    "version": 3
   },
   "file_extension": ".py",
   "mimetype": "text/x-python",
   "name": "python",
   "nbconvert_exporter": "python",
   "pygments_lexer": "ipython3",
   "version": "3.10.7"
  }
 },
 "nbformat": 4,
 "nbformat_minor": 5
}
